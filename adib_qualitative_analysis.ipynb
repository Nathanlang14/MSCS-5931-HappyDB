{
 "cells": [
  {
   "cell_type": "code",
   "execution_count": 1,
   "metadata": {},
   "outputs": [],
   "source": [
    "import warnings\n",
    "warnings.filterwarnings('ignore')"
   ]
  },
  {
   "cell_type": "code",
   "execution_count": 2,
   "metadata": {},
   "outputs": [],
   "source": [
    "import pandas as pd\n",
    "import numpy as np\n",
    "import matplotlib.pyplot as plt\n",
    "import seaborn as sns\n",
    "\n",
    "from sklearn.feature_extraction.text import CountVectorizer, TfidfTransformer\n",
    "\n",
    "pd.options.display.max_colwidth = 1000"
   ]
  },
  {
   "cell_type": "code",
   "execution_count": 3,
   "metadata": {},
   "outputs": [],
   "source": [
    "def get_top_bag_of_words(data, word_count=3, top_count=10):\n",
    "    word_vectorizer = CountVectorizer(ngram_range=(word_count,word_count), analyzer='word')\n",
    "    sparse_matrix = word_vectorizer.fit_transform(data['cleaned_hm'])\n",
    "    tfidf_transformer = TfidfTransformer()\n",
    "    sparse_matrix_new = tfidf_transformer.fit_transform(sparse_matrix)\n",
    "    frequencies = sum(sparse_matrix_new).toarray()[0]\n",
    "    bag_of_words = pd.DataFrame({'bag_of_words': word_vectorizer.get_feature_names(), 'frequency': frequencies})\n",
    "    bag_of_words = bag_of_words.sort_values('frequency', ascending=False)\n",
    "    top_10_bag_of_words = bag_of_words.head(top_count)\n",
    "    return top_10_bag_of_words"
   ]
  },
  {
   "cell_type": "markdown",
   "metadata": {},
   "source": [
    "# Qualitative analysis"
   ]
  },
  {
   "cell_type": "code",
   "execution_count": 4,
   "metadata": {},
   "outputs": [],
   "source": [
    "data = pd.read_csv(\"data/mergedData2.csv\")"
   ]
  },
  {
   "cell_type": "code",
   "execution_count": 5,
   "metadata": {},
   "outputs": [
    {
     "data": {
      "text/plain": [
       "Index(['wid', 'hmid', 'reflection_period', 'original_hm', 'cleaned_hm',\n",
       "       'modified', 'num_sentence', 'ground_truth_category',\n",
       "       'predicted_category', 'age', 'country', 'gender', 'marital',\n",
       "       'parenthood'],\n",
       "      dtype='object')"
      ]
     },
     "execution_count": 5,
     "metadata": {},
     "output_type": "execute_result"
    }
   ],
   "source": [
    "data.columns"
   ]
  },
  {
   "cell_type": "markdown",
   "metadata": {},
   "source": [
    "### Dimensions of dataset\n",
    "\n",
    "Features: age group, country, gender, marital status, parenthood, reflection period\n",
    "\n",
    "\n",
    "Outcome: predicted category, unigram, bigram"
   ]
  },
  {
   "cell_type": "markdown",
   "metadata": {},
   "source": [
    "### case study 1"
   ]
  },
  {
   "cell_type": "code",
   "execution_count": 6,
   "metadata": {},
   "outputs": [],
   "source": [
    "data_group_1_married = data[(data[\"country\"] == \"USA\") & (data[\"marital\"] == \"married\") & (data[\"reflection_period\"] == \"24h\") & (data[\"ground_truth_category\"] == \"enjoy_the_moment\")]\n",
    "data_group_1_single = data[(data[\"country\"] == \"USA\") & (data[\"marital\"] == \"single\") & (data[\"reflection_period\"] == \"24h\") & (data[\"ground_truth_category\"] == \"enjoy_the_moment\")]"
   ]
  },
  {
   "cell_type": "code",
   "execution_count": 7,
   "metadata": {},
   "outputs": [
    {
     "name": "stdout",
     "output_type": "stream",
     "text": [
      "Size of married group: 220\n",
      "Size of singles group: 402\n"
     ]
    }
   ],
   "source": [
    "print(\"Size of married group:\", data_group_1_married.shape[0])\n",
    "print(\"Size of singles group:\", data_group_1_single.shape[0])"
   ]
  },
  {
   "cell_type": "code",
   "execution_count": 8,
   "metadata": {},
   "outputs": [
    {
     "data": {
      "text/html": [
       "<div>\n",
       "<style scoped>\n",
       "    .dataframe tbody tr th:only-of-type {\n",
       "        vertical-align: middle;\n",
       "    }\n",
       "\n",
       "    .dataframe tbody tr th {\n",
       "        vertical-align: top;\n",
       "    }\n",
       "\n",
       "    .dataframe thead th {\n",
       "        text-align: right;\n",
       "    }\n",
       "</style>\n",
       "<table border=\"1\" class=\"dataframe\">\n",
       "  <thead>\n",
       "    <tr style=\"text-align: right;\">\n",
       "      <th></th>\n",
       "      <th>bag_of_words</th>\n",
       "      <th>frequency</th>\n",
       "    </tr>\n",
       "  </thead>\n",
       "  <tbody>\n",
       "    <tr>\n",
       "      <th>200</th>\n",
       "      <td>ate great steak</td>\n",
       "      <td>3.000000</td>\n",
       "    </tr>\n",
       "    <tr>\n",
       "      <th>1171</th>\n",
       "      <td>made me happy</td>\n",
       "      <td>2.633241</td>\n",
       "    </tr>\n",
       "    <tr>\n",
       "      <th>2225</th>\n",
       "      <td>was able to</td>\n",
       "      <td>2.206902</td>\n",
       "    </tr>\n",
       "    <tr>\n",
       "      <th>995</th>\n",
       "      <td>in the mail</td>\n",
       "      <td>1.824660</td>\n",
       "    </tr>\n",
       "    <tr>\n",
       "      <th>439</th>\n",
       "      <td>cup of coffee</td>\n",
       "      <td>1.586881</td>\n",
       "    </tr>\n",
       "    <tr>\n",
       "      <th>16</th>\n",
       "      <td>able to sleep</td>\n",
       "      <td>1.470806</td>\n",
       "    </tr>\n",
       "    <tr>\n",
       "      <th>1186</th>\n",
       "      <td>makes me happy</td>\n",
       "      <td>1.437323</td>\n",
       "    </tr>\n",
       "    <tr>\n",
       "      <th>2099</th>\n",
       "      <td>to sleep in</td>\n",
       "      <td>1.384523</td>\n",
       "    </tr>\n",
       "    <tr>\n",
       "      <th>1050</th>\n",
       "      <td>it made me</td>\n",
       "      <td>1.270481</td>\n",
       "    </tr>\n",
       "    <tr>\n",
       "      <th>1420</th>\n",
       "      <td>of my favorite</td>\n",
       "      <td>1.211197</td>\n",
       "    </tr>\n",
       "  </tbody>\n",
       "</table>\n",
       "</div>"
      ],
      "text/plain": [
       "         bag_of_words  frequency\n",
       "200   ate great steak   3.000000\n",
       "1171    made me happy   2.633241\n",
       "2225      was able to   2.206902\n",
       "995       in the mail   1.824660\n",
       "439     cup of coffee   1.586881\n",
       "16      able to sleep   1.470806\n",
       "1186   makes me happy   1.437323\n",
       "2099      to sleep in   1.384523\n",
       "1050       it made me   1.270481\n",
       "1420   of my favorite   1.211197"
      ]
     },
     "execution_count": 8,
     "metadata": {},
     "output_type": "execute_result"
    }
   ],
   "source": [
    "words = get_top_bag_of_words(data_group_1_married)\n",
    "words"
   ]
  },
  {
   "cell_type": "code",
   "execution_count": 9,
   "metadata": {},
   "outputs": [
    {
     "data": {
      "text/plain": [
       "<matplotlib.axes._subplots.AxesSubplot at 0x117535cc0>"
      ]
     },
     "execution_count": 9,
     "metadata": {},
     "output_type": "execute_result"
    },
    {
     "data": {
      "image/png": "[encoded data removed]",
      "text/plain": [
       "<Figure size 432x288 with 1 Axes>"
      ]
     },
     "metadata": {
      "needs_background": "light"
     },
     "output_type": "display_data"
    }
   ],
   "source": [
    "words.plot(x='bag_of_words', y='frequency', kind='barh')"
   ]
  },
  {
   "cell_type": "code",
   "execution_count": 10,
   "metadata": {},
   "outputs": [
    {
     "data": {
      "text/plain": [
       "4435                                                         ate a great steak\n",
       "71942                                                    I had a steak dinner.\n",
       "4425                                                         ate a great steak\n",
       "50042    The delicious steak that I had for dinner tonight made me very happy.\n",
       "97141              I ate a steak, green beans, and corn on the cob for supper.\n",
       "Name: cleaned_hm, dtype: object"
      ]
     },
     "execution_count": 10,
     "metadata": {},
     "output_type": "execute_result"
    }
   ],
   "source": [
    "data_group_1_married[data_group_1_married['cleaned_hm'].str.contains('steak')].sample(5)['cleaned_hm']"
   ]
  },
  {
   "cell_type": "code",
   "execution_count": 11,
   "metadata": {},
   "outputs": [
    {
     "data": {
      "text/html": [
       "<div>\n",
       "<style scoped>\n",
       "    .dataframe tbody tr th:only-of-type {\n",
       "        vertical-align: middle;\n",
       "    }\n",
       "\n",
       "    .dataframe tbody tr th {\n",
       "        vertical-align: top;\n",
       "    }\n",
       "\n",
       "    .dataframe thead th {\n",
       "        text-align: right;\n",
       "    }\n",
       "</style>\n",
       "<table border=\"1\" class=\"dataframe\">\n",
       "  <thead>\n",
       "    <tr style=\"text-align: right;\">\n",
       "      <th></th>\n",
       "      <th>bag_of_words</th>\n",
       "      <th>frequency</th>\n",
       "    </tr>\n",
       "  </thead>\n",
       "  <tbody>\n",
       "    <tr>\n",
       "      <th>2083</th>\n",
       "      <td>made me happy</td>\n",
       "      <td>7.034609</td>\n",
       "    </tr>\n",
       "    <tr>\n",
       "      <th>3278</th>\n",
       "      <td>that made me</td>\n",
       "      <td>3.805972</td>\n",
       "    </tr>\n",
       "    <tr>\n",
       "      <th>2525</th>\n",
       "      <td>of my favorite</td>\n",
       "      <td>3.080874</td>\n",
       "    </tr>\n",
       "    <tr>\n",
       "      <th>2747</th>\n",
       "      <td>pizza for dinner</td>\n",
       "      <td>2.301248</td>\n",
       "    </tr>\n",
       "    <tr>\n",
       "      <th>1045</th>\n",
       "      <td>event that made</td>\n",
       "      <td>2.285059</td>\n",
       "    </tr>\n",
       "    <tr>\n",
       "      <th>3924</th>\n",
       "      <td>was happy when</td>\n",
       "      <td>2.195667</td>\n",
       "    </tr>\n",
       "    <tr>\n",
       "      <th>3889</th>\n",
       "      <td>was able to</td>\n",
       "      <td>2.083371</td>\n",
       "    </tr>\n",
       "    <tr>\n",
       "      <th>2624</th>\n",
       "      <td>one of my</td>\n",
       "      <td>2.031187</td>\n",
       "    </tr>\n",
       "    <tr>\n",
       "      <th>1886</th>\n",
       "      <td>it made me</td>\n",
       "      <td>1.917016</td>\n",
       "    </tr>\n",
       "    <tr>\n",
       "      <th>2148</th>\n",
       "      <td>me happy in</td>\n",
       "      <td>1.891122</td>\n",
       "    </tr>\n",
       "  </tbody>\n",
       "</table>\n",
       "</div>"
      ],
      "text/plain": [
       "          bag_of_words  frequency\n",
       "2083     made me happy   7.034609\n",
       "3278      that made me   3.805972\n",
       "2525    of my favorite   3.080874\n",
       "2747  pizza for dinner   2.301248\n",
       "1045   event that made   2.285059\n",
       "3924    was happy when   2.195667\n",
       "3889       was able to   2.083371\n",
       "2624         one of my   2.031187\n",
       "1886        it made me   1.917016\n",
       "2148       me happy in   1.891122"
      ]
     },
     "execution_count": 11,
     "metadata": {},
     "output_type": "execute_result"
    }
   ],
   "source": [
    "words = get_top_bag_of_words(data_group_1_single)\n",
    "words"
   ]
  },
  {
   "cell_type": "code",
   "execution_count": 12,
   "metadata": {},
   "outputs": [
    {
     "data": {
      "text/plain": [
       "<matplotlib.axes._subplots.AxesSubplot at 0x117b4c668>"
      ]
     },
     "execution_count": 12,
     "metadata": {},
     "output_type": "execute_result"
    },
    {
     "data": {
      "image/png": "[encoded data removed]",
      "text/plain": [
       "<Figure size 432x288 with 1 Axes>"
      ]
     },
     "metadata": {
      "needs_background": "light"
     },
     "output_type": "display_data"
    }
   ],
   "source": [
    "words.plot(x='bag_of_words', y='frequency', kind='barh')"
   ]
  },
  {
   "cell_type": "code",
   "execution_count": 13,
   "metadata": {},
   "outputs": [
    {
     "data": {
      "text/plain": [
       "57543                                               I had ice cream and pizza for dinner.\n",
       "53501                                             Eating a BBQ pizza from Little Ceasars.\n",
       "68793    I ordered two of my favorite pizzas from Pizza Hut and it was cooked just right.\n",
       "22992                   I made myself pizza for dinner and sampled some home brewed beer.\n",
       "43932                                                        Eating pizza made me happy. \n",
       "Name: cleaned_hm, dtype: object"
      ]
     },
     "execution_count": 13,
     "metadata": {},
     "output_type": "execute_result"
    }
   ],
   "source": [
    "data_group_1_single[data_group_1_single['cleaned_hm'].str.contains('pizza')].sample(5)['cleaned_hm']"
   ]
  },
  {
   "cell_type": "markdown",
   "metadata": {},
   "source": [
    "### case study 2"
   ]
  },
  {
   "cell_type": "code",
   "execution_count": 14,
   "metadata": {},
   "outputs": [],
   "source": [
    "data_group_1_a = data[(data[\"country\"] == \"USA\") & (data[\"parenthood\"] == \"y\") & (data[\"reflection_period\"] == \"24h\") & (data[\"ground_truth_category\"] == \"enjoy_the_moment\")]\n",
    "data_group_1_b = data[(data[\"country\"] == \"USA\") & (data[\"parenthood\"] == \"n\") & (data[\"reflection_period\"] == \"24h\") & (data[\"ground_truth_category\"] == \"enjoy_the_moment\")]"
   ]
  },
  {
   "cell_type": "code",
   "execution_count": 15,
   "metadata": {},
   "outputs": [
    {
     "name": "stdout",
     "output_type": "stream",
     "text": [
      "Size of married group: 210\n",
      "Size of singles group: 447\n"
     ]
    }
   ],
   "source": [
    "print(\"Size of married group:\", data_group_1_a.shape[0])\n",
    "print(\"Size of singles group:\", data_group_1_b.shape[0])"
   ]
  },
  {
   "cell_type": "code",
   "execution_count": 16,
   "metadata": {},
   "outputs": [
    {
     "data": {
      "text/html": [
       "<div>\n",
       "<style scoped>\n",
       "    .dataframe tbody tr th:only-of-type {\n",
       "        vertical-align: middle;\n",
       "    }\n",
       "\n",
       "    .dataframe tbody tr th {\n",
       "        vertical-align: top;\n",
       "    }\n",
       "\n",
       "    .dataframe thead th {\n",
       "        text-align: right;\n",
       "    }\n",
       "</style>\n",
       "<table border=\"1\" class=\"dataframe\">\n",
       "  <thead>\n",
       "    <tr style=\"text-align: right;\">\n",
       "      <th></th>\n",
       "      <th>bag_of_words</th>\n",
       "      <th>frequency</th>\n",
       "    </tr>\n",
       "  </thead>\n",
       "  <tbody>\n",
       "    <tr>\n",
       "      <th>1205</th>\n",
       "      <td>made me happy</td>\n",
       "      <td>2.679166</td>\n",
       "    </tr>\n",
       "    <tr>\n",
       "      <th>843</th>\n",
       "      <td>had steak dinner</td>\n",
       "      <td>2.000000</td>\n",
       "    </tr>\n",
       "    <tr>\n",
       "      <th>2285</th>\n",
       "      <td>was able to</td>\n",
       "      <td>1.949464</td>\n",
       "    </tr>\n",
       "    <tr>\n",
       "      <th>450</th>\n",
       "      <td>cup of coffee</td>\n",
       "      <td>1.947133</td>\n",
       "    </tr>\n",
       "    <tr>\n",
       "      <th>1083</th>\n",
       "      <td>it made me</td>\n",
       "      <td>1.718712</td>\n",
       "    </tr>\n",
       "    <tr>\n",
       "      <th>14</th>\n",
       "      <td>able to sleep</td>\n",
       "      <td>1.626091</td>\n",
       "    </tr>\n",
       "    <tr>\n",
       "      <th>2163</th>\n",
       "      <td>to sleep in</td>\n",
       "      <td>1.545140</td>\n",
       "    </tr>\n",
       "    <tr>\n",
       "      <th>1217</th>\n",
       "      <td>makes me happy</td>\n",
       "      <td>1.436554</td>\n",
       "    </tr>\n",
       "    <tr>\n",
       "      <th>1540</th>\n",
       "      <td>out of work</td>\n",
       "      <td>1.154701</td>\n",
       "    </tr>\n",
       "    <tr>\n",
       "      <th>783</th>\n",
       "      <td>got out of</td>\n",
       "      <td>1.154701</td>\n",
       "    </tr>\n",
       "  </tbody>\n",
       "</table>\n",
       "</div>"
      ],
      "text/plain": [
       "          bag_of_words  frequency\n",
       "1205     made me happy   2.679166\n",
       "843   had steak dinner   2.000000\n",
       "2285       was able to   1.949464\n",
       "450      cup of coffee   1.947133\n",
       "1083        it made me   1.718712\n",
       "14       able to sleep   1.626091\n",
       "2163       to sleep in   1.545140\n",
       "1217    makes me happy   1.436554\n",
       "1540       out of work   1.154701\n",
       "783         got out of   1.154701"
      ]
     },
     "execution_count": 16,
     "metadata": {},
     "output_type": "execute_result"
    }
   ],
   "source": [
    "words = get_top_bag_of_words(data_group_1_a, word_count=3)\n",
    "words"
   ]
  },
  {
   "cell_type": "code",
   "execution_count": 17,
   "metadata": {},
   "outputs": [
    {
     "data": {
      "text/plain": [
       "<matplotlib.axes._subplots.AxesSubplot at 0x117c3f2e8>"
      ]
     },
     "execution_count": 17,
     "metadata": {},
     "output_type": "execute_result"
    },
    {
     "data": {
      "image/png": "[encoded data removed]",
      "text/plain": [
       "<Figure size 432x288 with 1 Axes>"
      ]
     },
     "metadata": {
      "needs_background": "light"
     },
     "output_type": "display_data"
    }
   ],
   "source": [
    "words.plot(x='bag_of_words', y='frequency', kind='barh')"
   ]
  },
  {
   "cell_type": "code",
   "execution_count": 18,
   "metadata": {},
   "outputs": [
    {
     "data": {
      "text/plain": [
       "47856                                                                                                                                         Being in bed earlier than usual and getting to watch Shameless before I fell asleep.  \n",
       "57742                                                                                                                                    I got a full night of sleep. That does not often happen with a 3 month-old in the house. \\n\n",
       "427                                                                                                                                                             I got to sleep in this morning and it made me feel rested and happy.\n",
       "33852                                                                                                                                                                     It was Saturday morning so I got to sleep in a little bit!\n",
       "87203    1. My house was hit by a pickup truck. The truck came through my bedroom but, even though I was sleeping in the room, I was not hurt and the driver of the truck was not hurt. It made me happy that everyone was okay.\\n\\n\n",
       "Name: cleaned_hm, dtype: object"
      ]
     },
     "execution_count": 18,
     "metadata": {},
     "output_type": "execute_result"
    }
   ],
   "source": [
    "data_group_1_a[data_group_1_a['cleaned_hm'].str.contains('sleep')].sample(5)['cleaned_hm']"
   ]
  },
  {
   "cell_type": "code",
   "execution_count": 19,
   "metadata": {},
   "outputs": [
    {
     "data": {
      "text/plain": [
       "18940                                       A woman came into our Bible study.  She was from Iran but has become a Christian and abandoned being a Muslim.  It made me happy to hear her testimony.\n",
       "98312    I'm going through a rough time in my life now, I was surfing youtube and found a lady reading tarot cards for Pisces(my sign), her voice and her outlook was positive so it made me happy.\n",
       "13463                                                                                                                  An event that made me happy in the past 24 hours is getting free breakfast. \n",
       "40359                                                                                                                                        Not getting bills in the mail made me happy yesterday.\n",
       "94086                                                                                         An event that made me happy in the past 24 hours was petting my cats after feeding them this morning.\n",
       "Name: cleaned_hm, dtype: object"
      ]
     },
     "execution_count": 19,
     "metadata": {},
     "output_type": "execute_result"
    }
   ],
   "source": [
    "data_group_1_a[data_group_1_a['cleaned_hm'].str.contains('made me happy')].sample(5)['cleaned_hm']"
   ]
  },
  {
   "cell_type": "code",
   "execution_count": 20,
   "metadata": {},
   "outputs": [
    {
     "data": {
      "text/html": [
       "<div>\n",
       "<style scoped>\n",
       "    .dataframe tbody tr th:only-of-type {\n",
       "        vertical-align: middle;\n",
       "    }\n",
       "\n",
       "    .dataframe tbody tr th {\n",
       "        vertical-align: top;\n",
       "    }\n",
       "\n",
       "    .dataframe thead th {\n",
       "        text-align: right;\n",
       "    }\n",
       "</style>\n",
       "<table border=\"1\" class=\"dataframe\">\n",
       "  <thead>\n",
       "    <tr style=\"text-align: right;\">\n",
       "      <th></th>\n",
       "      <th>bag_of_words</th>\n",
       "      <th>frequency</th>\n",
       "    </tr>\n",
       "  </thead>\n",
       "  <tbody>\n",
       "    <tr>\n",
       "      <th>2217</th>\n",
       "      <td>made me happy</td>\n",
       "      <td>7.358945</td>\n",
       "    </tr>\n",
       "    <tr>\n",
       "      <th>3490</th>\n",
       "      <td>that made me</td>\n",
       "      <td>3.569785</td>\n",
       "    </tr>\n",
       "    <tr>\n",
       "      <th>2686</th>\n",
       "      <td>of my favorite</td>\n",
       "      <td>3.541635</td>\n",
       "    </tr>\n",
       "    <tr>\n",
       "      <th>421</th>\n",
       "      <td>ate great steak</td>\n",
       "      <td>3.000000</td>\n",
       "    </tr>\n",
       "    <tr>\n",
       "      <th>1913</th>\n",
       "      <td>in the mail</td>\n",
       "      <td>2.400913</td>\n",
       "    </tr>\n",
       "    <tr>\n",
       "      <th>4143</th>\n",
       "      <td>was able to</td>\n",
       "      <td>2.377118</td>\n",
       "    </tr>\n",
       "    <tr>\n",
       "      <th>2795</th>\n",
       "      <td>one of my</td>\n",
       "      <td>2.310606</td>\n",
       "    </tr>\n",
       "    <tr>\n",
       "      <th>2924</th>\n",
       "      <td>pizza for dinner</td>\n",
       "      <td>2.307012</td>\n",
       "    </tr>\n",
       "    <tr>\n",
       "      <th>4179</th>\n",
       "      <td>was happy when</td>\n",
       "      <td>2.101572</td>\n",
       "    </tr>\n",
       "    <tr>\n",
       "      <th>1225</th>\n",
       "      <td>finished good book</td>\n",
       "      <td>2.000000</td>\n",
       "    </tr>\n",
       "  </tbody>\n",
       "</table>\n",
       "</div>"
      ],
      "text/plain": [
       "            bag_of_words  frequency\n",
       "2217       made me happy   7.358945\n",
       "3490        that made me   3.569785\n",
       "2686      of my favorite   3.541635\n",
       "421      ate great steak   3.000000\n",
       "1913         in the mail   2.400913\n",
       "4143         was able to   2.377118\n",
       "2795           one of my   2.310606\n",
       "2924    pizza for dinner   2.307012\n",
       "4179      was happy when   2.101572\n",
       "1225  finished good book   2.000000"
      ]
     },
     "execution_count": 20,
     "metadata": {},
     "output_type": "execute_result"
    }
   ],
   "source": [
    "words = get_top_bag_of_words(data_group_1_b, word_count=3)\n",
    "words"
   ]
  },
  {
   "cell_type": "code",
   "execution_count": 21,
   "metadata": {},
   "outputs": [
    {
     "data": {
      "text/plain": [
       "<matplotlib.axes._subplots.AxesSubplot at 0x117cd6668>"
      ]
     },
     "execution_count": 21,
     "metadata": {},
     "output_type": "execute_result"
    },
    {
     "data": {
      "image/png": "[encoded data removed]",
      "text/plain": [
       "<Figure size 432x288 with 1 Axes>"
      ]
     },
     "metadata": {
      "needs_background": "light"
     },
     "output_type": "display_data"
    }
   ],
   "source": [
    "words.plot(x='bag_of_words', y='frequency', kind='barh')"
   ]
  },
  {
   "cell_type": "code",
   "execution_count": 22,
   "metadata": {},
   "outputs": [
    {
     "data": {
      "text/plain": [
       "81003                                                                                                                                                                                                                                                                                                                                                                                                                                                                                                                       Another thing that made me happy is I received tickets in the mail for a music festival that I'm attending in a couple weeks.\n",
       "46514                                                                                                                                                                                                                                                                                                                                                                                                                                                                                                                                                     Yesterday, I saw the Fry's circular and the canned vegetables are on sale, which made me happy.\n",
       "55917                                                                                                                                                                                                                                                                                                                                                                                                                                                                                                                                                                                                              Watching the Final Four made me happy.\n",
       "84176    My new drill arrived via UPS yesterday. I have wanted an 18v cordless Bosh drill for YEARS and finally got it yesterday. Previously I could never justify the price since I already have a cordless drill, but by saving gift cards and watching out for sales I was finally able to purchase one through Sears. It made me happy because it cost me almost nothing out-of-pocket and I finally have something I want. I waited for the battery to charge, grabbed some scrap wood and drill bits, and when it was finally charged I gave it a test. It is exactly what I wanted and waiting as long as I have for it makes it that much better.\n",
       "80895                                                                                                                                                                                                                                                                                                                                                                                                                                                                                                                                                                                              Going home and not having to make dinner made me happy\n",
       "Name: cleaned_hm, dtype: object"
      ]
     },
     "execution_count": 22,
     "metadata": {},
     "output_type": "execute_result"
    }
   ],
   "source": [
    "data_group_1_b[data_group_1_b['cleaned_hm'].str.contains('made me happy')].sample(5)['cleaned_hm']"
   ]
  },
  {
   "cell_type": "markdown",
   "metadata": {},
   "source": [
    "# case study 3"
   ]
  },
  {
   "cell_type": "code",
   "execution_count": 23,
   "metadata": {},
   "outputs": [],
   "source": [
    "data_group_1_a = data[(data[\"country\"] == \"USA\") & (data[\"marital\"] == \"single\") & (data[\"reflection_period\"] == \"3m\") & (data[\"ground_truth_category\"] == \"leisure\")]\n",
    "data_group_1_b = data[(data[\"country\"] == \"IND\") & (data[\"marital\"] == \"single\") & (data[\"reflection_period\"] == \"3m\") & (data[\"ground_truth_category\"] == \"leisure\")]"
   ]
  },
  {
   "cell_type": "code",
   "execution_count": 24,
   "metadata": {},
   "outputs": [
    {
     "name": "stdout",
     "output_type": "stream",
     "text": [
      "Size of group a: 206\n",
      "Size of group b: 47\n"
     ]
    }
   ],
   "source": [
    "print(\"Size of group a:\", data_group_1_a.shape[0])\n",
    "print(\"Size of group b:\", data_group_1_b.shape[0])"
   ]
  },
  {
   "cell_type": "code",
   "execution_count": 25,
   "metadata": {},
   "outputs": [
    {
     "data": {
      "text/html": [
       "<div>\n",
       "<style scoped>\n",
       "    .dataframe tbody tr th:only-of-type {\n",
       "        vertical-align: middle;\n",
       "    }\n",
       "\n",
       "    .dataframe tbody tr th {\n",
       "        vertical-align: top;\n",
       "    }\n",
       "\n",
       "    .dataframe thead th {\n",
       "        text-align: right;\n",
       "    }\n",
       "</style>\n",
       "<table border=\"1\" class=\"dataframe\">\n",
       "  <thead>\n",
       "    <tr style=\"text-align: right;\">\n",
       "      <th></th>\n",
       "      <th>bag_of_words</th>\n",
       "      <th>frequency</th>\n",
       "    </tr>\n",
       "  </thead>\n",
       "  <tbody>\n",
       "    <tr>\n",
       "      <th>1878</th>\n",
       "      <td>went to the</td>\n",
       "      <td>3.943280</td>\n",
       "    </tr>\n",
       "    <tr>\n",
       "      <th>1639</th>\n",
       "      <td>to the beach</td>\n",
       "      <td>3.009478</td>\n",
       "    </tr>\n",
       "    <tr>\n",
       "      <th>1208</th>\n",
       "      <td>read good book</td>\n",
       "      <td>2.000000</td>\n",
       "    </tr>\n",
       "    <tr>\n",
       "      <th>1046</th>\n",
       "      <td>of my favorite</td>\n",
       "      <td>1.548554</td>\n",
       "    </tr>\n",
       "    <tr>\n",
       "      <th>1163</th>\n",
       "      <td>played video game</td>\n",
       "      <td>1.287165</td>\n",
       "    </tr>\n",
       "    <tr>\n",
       "      <th>1099</th>\n",
       "      <td>one of my</td>\n",
       "      <td>1.265364</td>\n",
       "    </tr>\n",
       "    <tr>\n",
       "      <th>1270</th>\n",
       "      <td>saw movie at</td>\n",
       "      <td>1.154701</td>\n",
       "    </tr>\n",
       "    <tr>\n",
       "      <th>139</th>\n",
       "      <td>at the theater</td>\n",
       "      <td>1.154701</td>\n",
       "    </tr>\n",
       "    <tr>\n",
       "      <th>912</th>\n",
       "      <td>movie at the</td>\n",
       "      <td>1.154701</td>\n",
       "    </tr>\n",
       "    <tr>\n",
       "      <th>617</th>\n",
       "      <td>got to sleep</td>\n",
       "      <td>1.134177</td>\n",
       "    </tr>\n",
       "    <tr>\n",
       "      <th>1633</th>\n",
       "      <td>to sleep in</td>\n",
       "      <td>1.134177</td>\n",
       "    </tr>\n",
       "    <tr>\n",
       "      <th>1754</th>\n",
       "      <td>was able to</td>\n",
       "      <td>1.128861</td>\n",
       "    </tr>\n",
       "    <tr>\n",
       "      <th>623</th>\n",
       "      <td>guardians of the</td>\n",
       "      <td>1.067442</td>\n",
       "    </tr>\n",
       "    <tr>\n",
       "      <th>1056</th>\n",
       "      <td>of the galaxy</td>\n",
       "      <td>1.067442</td>\n",
       "    </tr>\n",
       "    <tr>\n",
       "      <th>1810</th>\n",
       "      <td>watched breaking bad</td>\n",
       "      <td>1.000000</td>\n",
       "    </tr>\n",
       "    <tr>\n",
       "      <th>1869</th>\n",
       "      <td>went to beach</td>\n",
       "      <td>1.000000</td>\n",
       "    </tr>\n",
       "    <tr>\n",
       "      <th>1664</th>\n",
       "      <td>took bike ride</td>\n",
       "      <td>1.000000</td>\n",
       "    </tr>\n",
       "    <tr>\n",
       "      <th>1863</th>\n",
       "      <td>went for walk</td>\n",
       "      <td>1.000000</td>\n",
       "    </tr>\n",
       "    <tr>\n",
       "      <th>832</th>\n",
       "      <td>listened to music</td>\n",
       "      <td>1.000000</td>\n",
       "    </tr>\n",
       "    <tr>\n",
       "      <th>1631</th>\n",
       "      <td>to see the</td>\n",
       "      <td>0.924752</td>\n",
       "    </tr>\n",
       "  </tbody>\n",
       "</table>\n",
       "</div>"
      ],
      "text/plain": [
       "              bag_of_words  frequency\n",
       "1878           went to the   3.943280\n",
       "1639          to the beach   3.009478\n",
       "1208        read good book   2.000000\n",
       "1046        of my favorite   1.548554\n",
       "1163     played video game   1.287165\n",
       "1099             one of my   1.265364\n",
       "1270          saw movie at   1.154701\n",
       "139         at the theater   1.154701\n",
       "912           movie at the   1.154701\n",
       "617           got to sleep   1.134177\n",
       "1633           to sleep in   1.134177\n",
       "1754           was able to   1.128861\n",
       "623       guardians of the   1.067442\n",
       "1056         of the galaxy   1.067442\n",
       "1810  watched breaking bad   1.000000\n",
       "1869         went to beach   1.000000\n",
       "1664        took bike ride   1.000000\n",
       "1863         went for walk   1.000000\n",
       "832      listened to music   1.000000\n",
       "1631            to see the   0.924752"
      ]
     },
     "execution_count": 25,
     "metadata": {},
     "output_type": "execute_result"
    }
   ],
   "source": [
    "words = get_top_bag_of_words(data_group_1_a, top_count=20)\n",
    "words"
   ]
  },
  {
   "cell_type": "code",
   "execution_count": 26,
   "metadata": {},
   "outputs": [
    {
     "data": {
      "text/html": [
       "<div>\n",
       "<style scoped>\n",
       "    .dataframe tbody tr th:only-of-type {\n",
       "        vertical-align: middle;\n",
       "    }\n",
       "\n",
       "    .dataframe tbody tr th {\n",
       "        vertical-align: top;\n",
       "    }\n",
       "\n",
       "    .dataframe thead th {\n",
       "        text-align: right;\n",
       "    }\n",
       "</style>\n",
       "<table border=\"1\" class=\"dataframe\">\n",
       "  <thead>\n",
       "    <tr style=\"text-align: right;\">\n",
       "      <th></th>\n",
       "      <th>bag_of_words</th>\n",
       "      <th>frequency</th>\n",
       "    </tr>\n",
       "  </thead>\n",
       "  <tbody>\n",
       "    <tr>\n",
       "      <th>141</th>\n",
       "      <td>went to movie</td>\n",
       "      <td>9.000000</td>\n",
       "    </tr>\n",
       "    <tr>\n",
       "      <th>144</th>\n",
       "      <td>went to temple</td>\n",
       "      <td>8.000000</td>\n",
       "    </tr>\n",
       "    <tr>\n",
       "      <th>143</th>\n",
       "      <td>went to shopping</td>\n",
       "      <td>6.739593</td>\n",
       "    </tr>\n",
       "    <tr>\n",
       "      <th>123</th>\n",
       "      <td>to shopping mall</td>\n",
       "      <td>5.151336</td>\n",
       "    </tr>\n",
       "    <tr>\n",
       "      <th>136</th>\n",
       "      <td>went for trip</td>\n",
       "      <td>2.300672</td>\n",
       "    </tr>\n",
       "    <tr>\n",
       "      <th>132</th>\n",
       "      <td>want to temple</td>\n",
       "      <td>1.000000</td>\n",
       "    </tr>\n",
       "    <tr>\n",
       "      <th>140</th>\n",
       "      <td>went to drama</td>\n",
       "      <td>1.000000</td>\n",
       "    </tr>\n",
       "    <tr>\n",
       "      <th>115</th>\n",
       "      <td>to browsing center</td>\n",
       "      <td>0.707107</td>\n",
       "    </tr>\n",
       "    <tr>\n",
       "      <th>138</th>\n",
       "      <td>went to browsing</td>\n",
       "      <td>0.707107</td>\n",
       "    </tr>\n",
       "    <tr>\n",
       "      <th>78</th>\n",
       "      <td>night at home</td>\n",
       "      <td>0.577350</td>\n",
       "    </tr>\n",
       "    <tr>\n",
       "      <th>88</th>\n",
       "      <td>played casino for</td>\n",
       "      <td>0.577350</td>\n",
       "    </tr>\n",
       "    <tr>\n",
       "      <th>113</th>\n",
       "      <td>the festival night</td>\n",
       "      <td>0.577350</td>\n",
       "    </tr>\n",
       "    <tr>\n",
       "      <th>33</th>\n",
       "      <td>festival night at</td>\n",
       "      <td>0.577350</td>\n",
       "    </tr>\n",
       "    <tr>\n",
       "      <th>18</th>\n",
       "      <td>casino for first</td>\n",
       "      <td>0.577350</td>\n",
       "    </tr>\n",
       "    <tr>\n",
       "      <th>36</th>\n",
       "      <td>for first time</td>\n",
       "      <td>0.577350</td>\n",
       "    </tr>\n",
       "    <tr>\n",
       "      <th>101</th>\n",
       "      <td>started and came</td>\n",
       "      <td>0.447214</td>\n",
       "    </tr>\n",
       "    <tr>\n",
       "      <th>74</th>\n",
       "      <td>my summer holidays</td>\n",
       "      <td>0.447214</td>\n",
       "    </tr>\n",
       "    <tr>\n",
       "      <th>3</th>\n",
       "      <td>and came home</td>\n",
       "      <td>0.447214</td>\n",
       "    </tr>\n",
       "    <tr>\n",
       "      <th>103</th>\n",
       "      <td>summer holidays started</td>\n",
       "      <td>0.447214</td>\n",
       "    </tr>\n",
       "    <tr>\n",
       "      <th>48</th>\n",
       "      <td>holidays started and</td>\n",
       "      <td>0.447214</td>\n",
       "    </tr>\n",
       "  </tbody>\n",
       "</table>\n",
       "</div>"
      ],
      "text/plain": [
       "                bag_of_words  frequency\n",
       "141            went to movie   9.000000\n",
       "144           went to temple   8.000000\n",
       "143         went to shopping   6.739593\n",
       "123         to shopping mall   5.151336\n",
       "136            went for trip   2.300672\n",
       "132           want to temple   1.000000\n",
       "140            went to drama   1.000000\n",
       "115       to browsing center   0.707107\n",
       "138         went to browsing   0.707107\n",
       "78             night at home   0.577350\n",
       "88         played casino for   0.577350\n",
       "113       the festival night   0.577350\n",
       "33         festival night at   0.577350\n",
       "18          casino for first   0.577350\n",
       "36            for first time   0.577350\n",
       "101         started and came   0.447214\n",
       "74        my summer holidays   0.447214\n",
       "3              and came home   0.447214\n",
       "103  summer holidays started   0.447214\n",
       "48      holidays started and   0.447214"
      ]
     },
     "execution_count": 26,
     "metadata": {},
     "output_type": "execute_result"
    }
   ],
   "source": [
    "words = get_top_bag_of_words(data_group_1_b, top_count=20)\n",
    "words"
   ]
  },
  {
   "cell_type": "code",
   "execution_count": null,
   "metadata": {},
   "outputs": [],
   "source": []
  }
 ],
 "metadata": {
  "kernelspec": {
   "display_name": "Python 3",
   "language": "python",
   "name": "python3"
  },
  "language_info": {
   "codemirror_mode": {
    "name": "ipython",
    "version": 3
   },
   "file_extension": ".py",
   "mimetype": "text/x-python",
   "name": "python",
   "nbconvert_exporter": "python",
   "pygments_lexer": "ipython3",
   "version": "3.7.0"
  }
 },
 "nbformat": 4,
 "nbformat_minor": 2
}

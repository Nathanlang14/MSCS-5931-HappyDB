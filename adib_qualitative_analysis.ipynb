{
 "cells": [
  {
   "cell_type": "code",
   "execution_count": 1,
   "metadata": {},
   "outputs": [],
   "source": [
    "import warnings\n",
    "warnings.filterwarnings('ignore')"
   ]
  },
  {
   "cell_type": "code",
   "execution_count": 2,
   "metadata": {},
   "outputs": [],
   "source": [
    "import pandas as pd\n",
    "import numpy as np\n",
    "import matplotlib.pyplot as plt\n",
    "import seaborn as sns\n",
    "\n",
    "pd.options.display.max_colwidth = 1000"
   ]
  },
  {
   "cell_type": "markdown",
   "metadata": {},
   "source": [
    "# Qualitative analysis"
   ]
  },
  {
   "cell_type": "code",
   "execution_count": 3,
   "metadata": {},
   "outputs": [],
   "source": [
    "data = pd.read_csv(\"data/mergedData2.csv\")"
   ]
  },
  {
   "cell_type": "code",
   "execution_count": 4,
   "metadata": {},
   "outputs": [
    {
     "data": {
      "text/plain": [
       "Index(['wid', 'hmid', 'reflection_period', 'original_hm', 'cleaned_hm',\n",
       "       'modified', 'num_sentence', 'ground_truth_category',\n",
       "       'predicted_category', 'age', 'country', 'gender', 'marital',\n",
       "       'parenthood'],\n",
       "      dtype='object')"
      ]
     },
     "execution_count": 4,
     "metadata": {},
     "output_type": "execute_result"
    }
   ],
   "source": [
    "data.columns"
   ]
  },
  {
   "cell_type": "markdown",
   "metadata": {},
   "source": [
    "### Dimensions of dataset\n",
    "\n",
    "Features: age group, country, gender, marital status, parenthood, reflection period\n",
    "\n",
    "\n",
    "Outcome: predicted category, unigram, bigram"
   ]
  },
  {
   "cell_type": "code",
   "execution_count": 28,
   "metadata": {},
   "outputs": [],
   "source": [
    "data_group_1 = data[(data[\"country\"] == \"USA\") & (data[\"marital\"] == \"married\") & (data[\"reflection_period\"] == \"24h\") & (data[\"ground_truth_category\"] == \"enjoy_the_moment\")]"
   ]
  },
  {
   "cell_type": "code",
   "execution_count": 29,
   "metadata": {},
   "outputs": [
    {
     "data": {
      "text/plain": [
       "(220, 14)"
      ]
     },
     "execution_count": 29,
     "metadata": {},
     "output_type": "execute_result"
    }
   ],
   "source": [
    "data_group_1.shape"
   ]
  },
  {
   "cell_type": "code",
   "execution_count": 30,
   "metadata": {},
   "outputs": [],
   "source": [
    "#data_group_1 = data_group_1.sample(100)"
   ]
  },
  {
   "cell_type": "code",
   "execution_count": 31,
   "metadata": {},
   "outputs": [],
   "source": [
    "from sklearn.feature_extraction.text import CountVectorizer, TfidfTransformer"
   ]
  },
  {
   "cell_type": "code",
   "execution_count": 32,
   "metadata": {},
   "outputs": [],
   "source": [
    "word_vectorizer = CountVectorizer(ngram_range=(3,3), analyzer='word')\n",
    "sparse_matrix = word_vectorizer.fit_transform(data_group_1['cleaned_hm'])\n",
    "tfidf_transformer = TfidfTransformer()\n",
    "sparse_matrix_new = tfidf_transformer.fit_transform(sparse_matrix)\n",
    "frequencies = sum(sparse_matrix_new).toarray()[0]\n",
    "bag_of_words = pd.DataFrame({'bag_of_words': word_vectorizer.get_feature_names(), 'frequency': frequencies})"
   ]
  },
  {
   "cell_type": "code",
   "execution_count": 33,
   "metadata": {},
   "outputs": [],
   "source": [
    "nnnn = bag_of_words.sort_values('frequency', ascending=False)"
   ]
  },
  {
   "cell_type": "code",
   "execution_count": 34,
   "metadata": {},
   "outputs": [
    {
     "data": {
      "text/html": [
       "<div>\n",
       "<style scoped>\n",
       "    .dataframe tbody tr th:only-of-type {\n",
       "        vertical-align: middle;\n",
       "    }\n",
       "\n",
       "    .dataframe tbody tr th {\n",
       "        vertical-align: top;\n",
       "    }\n",
       "\n",
       "    .dataframe thead th {\n",
       "        text-align: right;\n",
       "    }\n",
       "</style>\n",
       "<table border=\"1\" class=\"dataframe\">\n",
       "  <thead>\n",
       "    <tr style=\"text-align: right;\">\n",
       "      <th></th>\n",
       "      <th>bag_of_words</th>\n",
       "      <th>frequency</th>\n",
       "    </tr>\n",
       "  </thead>\n",
       "  <tbody>\n",
       "    <tr>\n",
       "      <th>200</th>\n",
       "      <td>ate great steak</td>\n",
       "      <td>3.000000</td>\n",
       "    </tr>\n",
       "    <tr>\n",
       "      <th>1171</th>\n",
       "      <td>made me happy</td>\n",
       "      <td>2.633241</td>\n",
       "    </tr>\n",
       "    <tr>\n",
       "      <th>2225</th>\n",
       "      <td>was able to</td>\n",
       "      <td>2.206902</td>\n",
       "    </tr>\n",
       "    <tr>\n",
       "      <th>995</th>\n",
       "      <td>in the mail</td>\n",
       "      <td>1.824660</td>\n",
       "    </tr>\n",
       "    <tr>\n",
       "      <th>439</th>\n",
       "      <td>cup of coffee</td>\n",
       "      <td>1.586881</td>\n",
       "    </tr>\n",
       "    <tr>\n",
       "      <th>16</th>\n",
       "      <td>able to sleep</td>\n",
       "      <td>1.470806</td>\n",
       "    </tr>\n",
       "    <tr>\n",
       "      <th>1186</th>\n",
       "      <td>makes me happy</td>\n",
       "      <td>1.437323</td>\n",
       "    </tr>\n",
       "    <tr>\n",
       "      <th>2099</th>\n",
       "      <td>to sleep in</td>\n",
       "      <td>1.384523</td>\n",
       "    </tr>\n",
       "    <tr>\n",
       "      <th>1050</th>\n",
       "      <td>it made me</td>\n",
       "      <td>1.270481</td>\n",
       "    </tr>\n",
       "    <tr>\n",
       "      <th>1420</th>\n",
       "      <td>of my favorite</td>\n",
       "      <td>1.211197</td>\n",
       "    </tr>\n",
       "  </tbody>\n",
       "</table>\n",
       "</div>"
      ],
      "text/plain": [
       "         bag_of_words  frequency\n",
       "200   ate great steak   3.000000\n",
       "1171    made me happy   2.633241\n",
       "2225      was able to   2.206902\n",
       "995       in the mail   1.824660\n",
       "439     cup of coffee   1.586881\n",
       "16      able to sleep   1.470806\n",
       "1186   makes me happy   1.437323\n",
       "2099      to sleep in   1.384523\n",
       "1050       it made me   1.270481\n",
       "1420   of my favorite   1.211197"
      ]
     },
     "execution_count": 34,
     "metadata": {},
     "output_type": "execute_result"
    }
   ],
   "source": [
    "nn = nnnn.head(10)\n",
    "nn"
   ]
  },
  {
   "cell_type": "code",
   "execution_count": 35,
   "metadata": {},
   "outputs": [
    {
     "data": {
      "text/plain": [
       "<matplotlib.axes._subplots.AxesSubplot at 0x11ab29a20>"
      ]
     },
     "execution_count": 35,
     "metadata": {},
     "output_type": "execute_result"
    },
    {
     "data": {
      "image/png": "[encoded data removed]",
      "text/plain": [
       "<Figure size 432x288 with 1 Axes>"
      ]
     },
     "metadata": {
      "needs_background": "light"
     },
     "output_type": "display_data"
    }
   ],
   "source": [
    "nn.plot(x='bag_of_words', y='frequency', kind='barh')"
   ]
  },
  {
   "cell_type": "code",
   "execution_count": null,
   "metadata": {},
   "outputs": [],
   "source": []
  },
  {
   "cell_type": "code",
   "execution_count": null,
   "metadata": {},
   "outputs": [],
   "source": []
  },
  {
   "cell_type": "code",
   "execution_count": null,
   "metadata": {},
   "outputs": [],
   "source": []
  },
  {
   "cell_type": "code",
   "execution_count": null,
   "metadata": {},
   "outputs": [],
   "source": []
  },
  {
   "cell_type": "code",
   "execution_count": null,
   "metadata": {},
   "outputs": [],
   "source": []
  },
  {
   "cell_type": "code",
   "execution_count": 13,
   "metadata": {},
   "outputs": [],
   "source": [
    "#dd = data_group_1[data_group_1['cleaned_hm'].str.contains(nn.iloc[0]['bag_of_words'])]\n",
    "dd = data_group_1[data_group_1['cleaned_hm'].str.contains('pizza')]"
   ]
  },
  {
   "cell_type": "code",
   "execution_count": 14,
   "metadata": {},
   "outputs": [
    {
     "data": {
      "text/plain": [
       "(17, 14)"
      ]
     },
     "execution_count": 14,
     "metadata": {},
     "output_type": "execute_result"
    }
   ],
   "source": [
    "dd.shape"
   ]
  },
  {
   "cell_type": "code",
   "execution_count": 15,
   "metadata": {},
   "outputs": [
    {
     "data": {
      "text/html": [
       "<div>\n",
       "<style scoped>\n",
       "    .dataframe tbody tr th:only-of-type {\n",
       "        vertical-align: middle;\n",
       "    }\n",
       "\n",
       "    .dataframe tbody tr th {\n",
       "        vertical-align: top;\n",
       "    }\n",
       "\n",
       "    .dataframe thead th {\n",
       "        text-align: right;\n",
       "    }\n",
       "</style>\n",
       "<table border=\"1\" class=\"dataframe\">\n",
       "  <thead>\n",
       "    <tr style=\"text-align: right;\">\n",
       "      <th></th>\n",
       "      <th>wid</th>\n",
       "      <th>hmid</th>\n",
       "      <th>reflection_period</th>\n",
       "      <th>original_hm</th>\n",
       "      <th>cleaned_hm</th>\n",
       "      <th>modified</th>\n",
       "      <th>num_sentence</th>\n",
       "      <th>ground_truth_category</th>\n",
       "      <th>predicted_category</th>\n",
       "      <th>age</th>\n",
       "      <th>country</th>\n",
       "      <th>gender</th>\n",
       "      <th>marital</th>\n",
       "      <th>parenthood</th>\n",
       "    </tr>\n",
       "  </thead>\n",
       "  <tbody>\n",
       "    <tr>\n",
       "      <th>47726</th>\n",
       "      <td>1024</td>\n",
       "      <td>114856</td>\n",
       "      <td>24h</td>\n",
       "      <td>I got to eat a couple slices of cheese pizza after eating vegan for the entirety of last week.</td>\n",
       "      <td>I got to eat a couple slices of cheese pizza after eating vegan for the entirety of last week.</td>\n",
       "      <td>True</td>\n",
       "      <td>1</td>\n",
       "      <td>enjoy_the_moment</td>\n",
       "      <td>enjoy_the_moment</td>\n",
       "      <td>34</td>\n",
       "      <td>USA</td>\n",
       "      <td>m</td>\n",
       "      <td>single</td>\n",
       "      <td>y</td>\n",
       "    </tr>\n",
       "    <tr>\n",
       "      <th>23192</th>\n",
       "      <td>372</td>\n",
       "      <td>55609</td>\n",
       "      <td>24h</td>\n",
       "      <td>I was happy when I got pizza at Pizza Hut.</td>\n",
       "      <td>I was happy when I got pizza at Pizza Hut.</td>\n",
       "      <td>True</td>\n",
       "      <td>1</td>\n",
       "      <td>enjoy_the_moment</td>\n",
       "      <td>enjoy_the_moment</td>\n",
       "      <td>19</td>\n",
       "      <td>USA</td>\n",
       "      <td>m</td>\n",
       "      <td>single</td>\n",
       "      <td>n</td>\n",
       "    </tr>\n",
       "    <tr>\n",
       "      <th>59351</th>\n",
       "      <td>1590</td>\n",
       "      <td>125716</td>\n",
       "      <td>24h</td>\n",
       "      <td>I ordered a pepperoni pizza.</td>\n",
       "      <td>I ordered a pepperoni pizza.</td>\n",
       "      <td>True</td>\n",
       "      <td>1</td>\n",
       "      <td>enjoy_the_moment</td>\n",
       "      <td>enjoy_the_moment</td>\n",
       "      <td>22</td>\n",
       "      <td>USA</td>\n",
       "      <td>m</td>\n",
       "      <td>single</td>\n",
       "      <td>n</td>\n",
       "    </tr>\n",
       "    <tr>\n",
       "      <th>92729</th>\n",
       "      <td>10129</td>\n",
       "      <td>56949</td>\n",
       "      <td>24h</td>\n",
       "      <td>I broke being vegan and ate two slices of pizza today.</td>\n",
       "      <td>I broke being vegan and ate two slices of pizza today.</td>\n",
       "      <td>True</td>\n",
       "      <td>1</td>\n",
       "      <td>enjoy_the_moment</td>\n",
       "      <td>enjoy_the_moment</td>\n",
       "      <td>25</td>\n",
       "      <td>USA</td>\n",
       "      <td>o</td>\n",
       "      <td>single</td>\n",
       "      <td>n</td>\n",
       "    </tr>\n",
       "    <tr>\n",
       "      <th>43902</th>\n",
       "      <td>887</td>\n",
       "      <td>38136</td>\n",
       "      <td>24h</td>\n",
       "      <td>I had pizza for lunch, I love pizza makes me happy.</td>\n",
       "      <td>I had pizza for lunch, I love pizza makes me happy.</td>\n",
       "      <td>True</td>\n",
       "      <td>1</td>\n",
       "      <td>enjoy_the_moment</td>\n",
       "      <td>enjoy_the_moment</td>\n",
       "      <td>35</td>\n",
       "      <td>USA</td>\n",
       "      <td>m</td>\n",
       "      <td>single</td>\n",
       "      <td>n</td>\n",
       "    </tr>\n",
       "    <tr>\n",
       "      <th>60743</th>\n",
       "      <td>1683</td>\n",
       "      <td>51179</td>\n",
       "      <td>24h</td>\n",
       "      <td>I ate pizza for dinner tonight!</td>\n",
       "      <td>I ate pizza for dinner tonight!</td>\n",
       "      <td>True</td>\n",
       "      <td>1</td>\n",
       "      <td>enjoy_the_moment</td>\n",
       "      <td>enjoy_the_moment</td>\n",
       "      <td>23</td>\n",
       "      <td>USA</td>\n",
       "      <td>m</td>\n",
       "      <td>single</td>\n",
       "      <td>n</td>\n",
       "    </tr>\n",
       "    <tr>\n",
       "      <th>31307</th>\n",
       "      <td>540</td>\n",
       "      <td>123619</td>\n",
       "      <td>24h</td>\n",
       "      <td>I ate a Papa Johns Pizza. Even though I'm trying to eat healthier I always have a day where I allow myself to eat junk food, and on that day I got Papa Johns, it my favorite pizza place.</td>\n",
       "      <td>I ate a Papa Johns Pizza. Even though I'm trying to eat healthier I always have a day where I allow myself to eat junk food, and on that day I got Papa Johns, it my favorite pizza place.</td>\n",
       "      <td>True</td>\n",
       "      <td>2</td>\n",
       "      <td>enjoy_the_moment</td>\n",
       "      <td>enjoy_the_moment</td>\n",
       "      <td>21</td>\n",
       "      <td>USA</td>\n",
       "      <td>m</td>\n",
       "      <td>single</td>\n",
       "      <td>n</td>\n",
       "    </tr>\n",
       "    <tr>\n",
       "      <th>61196</th>\n",
       "      <td>1715</td>\n",
       "      <td>38215</td>\n",
       "      <td>24h</td>\n",
       "      <td>I ate a delicious meal w pizza and mozzarella sticks.</td>\n",
       "      <td>I ate a delicious meal w pizza and mozzarella sticks.</td>\n",
       "      <td>True</td>\n",
       "      <td>1</td>\n",
       "      <td>enjoy_the_moment</td>\n",
       "      <td>enjoy_the_moment</td>\n",
       "      <td>30</td>\n",
       "      <td>USA</td>\n",
       "      <td>f</td>\n",
       "      <td>single</td>\n",
       "      <td>n</td>\n",
       "    </tr>\n",
       "    <tr>\n",
       "      <th>70966</th>\n",
       "      <td>2740</td>\n",
       "      <td>113970</td>\n",
       "      <td>24h</td>\n",
       "      <td>I was happy when I ordered a pizza and only had to pay for the delivery charge.</td>\n",
       "      <td>I was happy when I ordered a pizza and only had to pay for the delivery charge.</td>\n",
       "      <td>True</td>\n",
       "      <td>1</td>\n",
       "      <td>enjoy_the_moment</td>\n",
       "      <td>enjoy_the_moment</td>\n",
       "      <td>21</td>\n",
       "      <td>USA</td>\n",
       "      <td>m</td>\n",
       "      <td>single</td>\n",
       "      <td>n</td>\n",
       "    </tr>\n",
       "    <tr>\n",
       "      <th>22992</th>\n",
       "      <td>369</td>\n",
       "      <td>29647</td>\n",
       "      <td>24h</td>\n",
       "      <td>I made myself pizza for dinner and sampled some home brewed beer.</td>\n",
       "      <td>I made myself pizza for dinner and sampled some home brewed beer.</td>\n",
       "      <td>True</td>\n",
       "      <td>1</td>\n",
       "      <td>enjoy_the_moment</td>\n",
       "      <td>enjoy_the_moment</td>\n",
       "      <td>37</td>\n",
       "      <td>USA</td>\n",
       "      <td>m</td>\n",
       "      <td>single</td>\n",
       "      <td>n</td>\n",
       "    </tr>\n",
       "  </tbody>\n",
       "</table>\n",
       "</div>"
      ],
      "text/plain": [
       "         wid    hmid reflection_period  \\\n",
       "47726   1024  114856               24h   \n",
       "23192    372   55609               24h   \n",
       "59351   1590  125716               24h   \n",
       "92729  10129   56949               24h   \n",
       "43902    887   38136               24h   \n",
       "60743   1683   51179               24h   \n",
       "31307    540  123619               24h   \n",
       "61196   1715   38215               24h   \n",
       "70966   2740  113970               24h   \n",
       "22992    369   29647               24h   \n",
       "\n",
       "                                                                                                                                                                                      original_hm  \\\n",
       "47726                                                                                              I got to eat a couple slices of cheese pizza after eating vegan for the entirety of last week.   \n",
       "23192                                                                                                                                                  I was happy when I got pizza at Pizza Hut.   \n",
       "59351                                                                                                                                                                I ordered a pepperoni pizza.   \n",
       "92729                                                                                                                                      I broke being vegan and ate two slices of pizza today.   \n",
       "43902                                                                                                                                         I had pizza for lunch, I love pizza makes me happy.   \n",
       "60743                                                                                                                                                             I ate pizza for dinner tonight!   \n",
       "31307  I ate a Papa Johns Pizza. Even though I'm trying to eat healthier I always have a day where I allow myself to eat junk food, and on that day I got Papa Johns, it my favorite pizza place.   \n",
       "61196                                                                                                                                       I ate a delicious meal w pizza and mozzarella sticks.   \n",
       "70966                                                                                                             I was happy when I ordered a pizza and only had to pay for the delivery charge.   \n",
       "22992                                                                                                                           I made myself pizza for dinner and sampled some home brewed beer.   \n",
       "\n",
       "                                                                                                                                                                                       cleaned_hm  \\\n",
       "47726                                                                                              I got to eat a couple slices of cheese pizza after eating vegan for the entirety of last week.   \n",
       "23192                                                                                                                                                  I was happy when I got pizza at Pizza Hut.   \n",
       "59351                                                                                                                                                                I ordered a pepperoni pizza.   \n",
       "92729                                                                                                                                      I broke being vegan and ate two slices of pizza today.   \n",
       "43902                                                                                                                                         I had pizza for lunch, I love pizza makes me happy.   \n",
       "60743                                                                                                                                                             I ate pizza for dinner tonight!   \n",
       "31307  I ate a Papa Johns Pizza. Even though I'm trying to eat healthier I always have a day where I allow myself to eat junk food, and on that day I got Papa Johns, it my favorite pizza place.   \n",
       "61196                                                                                                                                       I ate a delicious meal w pizza and mozzarella sticks.   \n",
       "70966                                                                                                             I was happy when I ordered a pizza and only had to pay for the delivery charge.   \n",
       "22992                                                                                                                           I made myself pizza for dinner and sampled some home brewed beer.   \n",
       "\n",
       "       modified  num_sentence ground_truth_category predicted_category age  \\\n",
       "47726      True             1      enjoy_the_moment   enjoy_the_moment  34   \n",
       "23192      True             1      enjoy_the_moment   enjoy_the_moment  19   \n",
       "59351      True             1      enjoy_the_moment   enjoy_the_moment  22   \n",
       "92729      True             1      enjoy_the_moment   enjoy_the_moment  25   \n",
       "43902      True             1      enjoy_the_moment   enjoy_the_moment  35   \n",
       "60743      True             1      enjoy_the_moment   enjoy_the_moment  23   \n",
       "31307      True             2      enjoy_the_moment   enjoy_the_moment  21   \n",
       "61196      True             1      enjoy_the_moment   enjoy_the_moment  30   \n",
       "70966      True             1      enjoy_the_moment   enjoy_the_moment  21   \n",
       "22992      True             1      enjoy_the_moment   enjoy_the_moment  37   \n",
       "\n",
       "      country gender marital parenthood  \n",
       "47726     USA      m  single          y  \n",
       "23192     USA      m  single          n  \n",
       "59351     USA      m  single          n  \n",
       "92729     USA      o  single          n  \n",
       "43902     USA      m  single          n  \n",
       "60743     USA      m  single          n  \n",
       "31307     USA      m  single          n  \n",
       "61196     USA      f  single          n  \n",
       "70966     USA      m  single          n  \n",
       "22992     USA      m  single          n  "
      ]
     },
     "execution_count": 15,
     "metadata": {},
     "output_type": "execute_result"
    }
   ],
   "source": [
    "dd.sample(10)"
   ]
  },
  {
   "cell_type": "code",
   "execution_count": 16,
   "metadata": {},
   "outputs": [],
   "source": [
    "data_group_2 = data[(data[\"country\"] == \"USA\")]\n",
    "dd11 = data_group_2[data_group_2['cleaned_hm'].str.contains('pizza')]"
   ]
  },
  {
   "cell_type": "code",
   "execution_count": 17,
   "metadata": {},
   "outputs": [
    {
     "data": {
      "text/plain": [
       "(525, 14)"
      ]
     },
     "execution_count": 17,
     "metadata": {},
     "output_type": "execute_result"
    }
   ],
   "source": [
    "dd11.shape"
   ]
  },
  {
   "cell_type": "code",
   "execution_count": 18,
   "metadata": {},
   "outputs": [],
   "source": [
    "word_vectorizer = CountVectorizer(ngram_range=(2,2), analyzer='word')\n",
    "sparse_matrix = word_vectorizer.fit_transform(dd11['cleaned_hm'])\n",
    "tfidf_transformer = TfidfTransformer()\n",
    "sparse_matrix_new = tfidf_transformer.fit_transform(sparse_matrix)\n",
    "frequencies = sum(sparse_matrix_new).toarray()[0]\n",
    "bag_of_words = pd.DataFrame({'bag_of_words': word_vectorizer.get_feature_names(), 'frequency': frequencies})"
   ]
  },
  {
   "cell_type": "code",
   "execution_count": 19,
   "metadata": {},
   "outputs": [],
   "source": [
    "nnnn11 = bag_of_words.sort_values('frequency', ascending=False)"
   ]
  },
  {
   "cell_type": "code",
   "execution_count": 20,
   "metadata": {},
   "outputs": [
    {
     "data": {
      "text/html": [
       "<div>\n",
       "<style scoped>\n",
       "    .dataframe tbody tr th:only-of-type {\n",
       "        vertical-align: middle;\n",
       "    }\n",
       "\n",
       "    .dataframe tbody tr th {\n",
       "        vertical-align: top;\n",
       "    }\n",
       "\n",
       "    .dataframe thead th {\n",
       "        text-align: right;\n",
       "    }\n",
       "</style>\n",
       "<table border=\"1\" class=\"dataframe\">\n",
       "  <thead>\n",
       "    <tr style=\"text-align: right;\">\n",
       "      <th></th>\n",
       "      <th>bag_of_words</th>\n",
       "      <th>frequency</th>\n",
       "    </tr>\n",
       "  </thead>\n",
       "  <tbody>\n",
       "    <tr>\n",
       "      <th>2169</th>\n",
       "      <td>papa murphy</td>\n",
       "      <td>0.408248</td>\n",
       "    </tr>\n",
       "    <tr>\n",
       "      <th>2168</th>\n",
       "      <td>papa johns</td>\n",
       "      <td>0.367669</td>\n",
       "    </tr>\n",
       "    <tr>\n",
       "      <th>292</th>\n",
       "      <td>ate papa</td>\n",
       "      <td>0.183835</td>\n",
       "    </tr>\n",
       "    <tr>\n",
       "      <th>1166</th>\n",
       "      <td>got papa</td>\n",
       "      <td>0.183835</td>\n",
       "    </tr>\n",
       "  </tbody>\n",
       "</table>\n",
       "</div>"
      ],
      "text/plain": [
       "     bag_of_words  frequency\n",
       "2169  papa murphy   0.408248\n",
       "2168   papa johns   0.367669\n",
       "292      ate papa   0.183835\n",
       "1166     got papa   0.183835"
      ]
     },
     "execution_count": 20,
     "metadata": {},
     "output_type": "execute_result"
    }
   ],
   "source": [
    "nnnn11[nnnn11.bag_of_words.str.contains('papa')]"
   ]
  },
  {
   "cell_type": "code",
   "execution_count": 21,
   "metadata": {},
   "outputs": [
    {
     "data": {
      "text/html": [
       "<div>\n",
       "<style scoped>\n",
       "    .dataframe tbody tr th:only-of-type {\n",
       "        vertical-align: middle;\n",
       "    }\n",
       "\n",
       "    .dataframe tbody tr th {\n",
       "        vertical-align: top;\n",
       "    }\n",
       "\n",
       "    .dataframe thead th {\n",
       "        text-align: right;\n",
       "    }\n",
       "</style>\n",
       "<table border=\"1\" class=\"dataframe\">\n",
       "  <thead>\n",
       "    <tr style=\"text-align: right;\">\n",
       "      <th></th>\n",
       "      <th>bag_of_words</th>\n",
       "      <th>frequency</th>\n",
       "    </tr>\n",
       "  </thead>\n",
       "  <tbody>\n",
       "    <tr>\n",
       "      <th>279</th>\n",
       "      <td>ate dominoes</td>\n",
       "      <td>0.636280</td>\n",
       "    </tr>\n",
       "    <tr>\n",
       "      <th>747</th>\n",
       "      <td>dominoes pizza</td>\n",
       "      <td>0.636280</td>\n",
       "    </tr>\n",
       "    <tr>\n",
       "      <th>1044</th>\n",
       "      <td>from domino</td>\n",
       "      <td>0.554500</td>\n",
       "    </tr>\n",
       "    <tr>\n",
       "      <th>746</th>\n",
       "      <td>domino pizza</td>\n",
       "      <td>0.415002</td>\n",
       "    </tr>\n",
       "    <tr>\n",
       "      <th>676</th>\n",
       "      <td>delicious domino</td>\n",
       "      <td>0.415002</td>\n",
       "    </tr>\n",
       "    <tr>\n",
       "      <th>744</th>\n",
       "      <td>domino and</td>\n",
       "      <td>0.319191</td>\n",
       "    </tr>\n",
       "    <tr>\n",
       "      <th>745</th>\n",
       "      <td>domino due</td>\n",
       "      <td>0.271768</td>\n",
       "    </tr>\n",
       "    <tr>\n",
       "      <th>748</th>\n",
       "      <td>dominos to</td>\n",
       "      <td>0.202593</td>\n",
       "    </tr>\n",
       "    <tr>\n",
       "      <th>1045</th>\n",
       "      <td>from dominos</td>\n",
       "      <td>0.202593</td>\n",
       "    </tr>\n",
       "  </tbody>\n",
       "</table>\n",
       "</div>"
      ],
      "text/plain": [
       "          bag_of_words  frequency\n",
       "279       ate dominoes   0.636280\n",
       "747     dominoes pizza   0.636280\n",
       "1044       from domino   0.554500\n",
       "746       domino pizza   0.415002\n",
       "676   delicious domino   0.415002\n",
       "744         domino and   0.319191\n",
       "745         domino due   0.271768\n",
       "748         dominos to   0.202593\n",
       "1045      from dominos   0.202593"
      ]
     },
     "execution_count": 21,
     "metadata": {},
     "output_type": "execute_result"
    }
   ],
   "source": [
    "nnnn11[nnnn11.bag_of_words.str.contains('domin')]"
   ]
  },
  {
   "cell_type": "code",
   "execution_count": 22,
   "metadata": {},
   "outputs": [
    {
     "data": {
      "text/html": [
       "<div>\n",
       "<style scoped>\n",
       "    .dataframe tbody tr th:only-of-type {\n",
       "        vertical-align: middle;\n",
       "    }\n",
       "\n",
       "    .dataframe tbody tr th {\n",
       "        vertical-align: top;\n",
       "    }\n",
       "\n",
       "    .dataframe thead th {\n",
       "        text-align: right;\n",
       "    }\n",
       "</style>\n",
       "<table border=\"1\" class=\"dataframe\">\n",
       "  <thead>\n",
       "    <tr style=\"text-align: right;\">\n",
       "      <th></th>\n",
       "      <th>bag_of_words</th>\n",
       "      <th>frequency</th>\n",
       "    </tr>\n",
       "  </thead>\n",
       "  <tbody>\n",
       "    <tr>\n",
       "      <th>2224</th>\n",
       "      <td>pizza for</td>\n",
       "      <td>25.758538</td>\n",
       "    </tr>\n",
       "    <tr>\n",
       "      <th>965</th>\n",
       "      <td>for dinner</td>\n",
       "      <td>21.689691</td>\n",
       "    </tr>\n",
       "    <tr>\n",
       "      <th>1225</th>\n",
       "      <td>had pizza</td>\n",
       "      <td>14.719627</td>\n",
       "    </tr>\n",
       "    <tr>\n",
       "      <th>293</th>\n",
       "      <td>ate pizza</td>\n",
       "      <td>12.154797</td>\n",
       "    </tr>\n",
       "    <tr>\n",
       "      <th>3387</th>\n",
       "      <td>with my</td>\n",
       "      <td>10.530196</td>\n",
       "    </tr>\n",
       "  </tbody>\n",
       "</table>\n",
       "</div>"
      ],
      "text/plain": [
       "     bag_of_words  frequency\n",
       "2224    pizza for  25.758538\n",
       "965    for dinner  21.689691\n",
       "1225    had pizza  14.719627\n",
       "293     ate pizza  12.154797\n",
       "3387      with my  10.530196"
      ]
     },
     "execution_count": 22,
     "metadata": {},
     "output_type": "execute_result"
    }
   ],
   "source": [
    "nnnn11.head()"
   ]
  },
  {
   "cell_type": "code",
   "execution_count": 23,
   "metadata": {},
   "outputs": [
    {
     "data": {
      "text/plain": [
       "<matplotlib.axes._subplots.AxesSubplot at 0x11a4b5940>"
      ]
     },
     "execution_count": 23,
     "metadata": {},
     "output_type": "execute_result"
    },
    {
     "data": {
      "image/png": "[encoded data removed]",
      "text/plain": [
       "<Figure size 432x288 with 1 Axes>"
      ]
     },
     "metadata": {
      "needs_background": "light"
     },
     "output_type": "display_data"
    }
   ],
   "source": [
    "nnnn11.head(20).plot(x='bag_of_words', y='frequency', kind='barh')"
   ]
  },
  {
   "cell_type": "code",
   "execution_count": null,
   "metadata": {},
   "outputs": [],
   "source": []
  }
 ],
 "metadata": {
  "kernelspec": {
   "display_name": "Python 3",
   "language": "python",
   "name": "python3"
  },
  "language_info": {
   "codemirror_mode": {
    "name": "ipython",
    "version": 3
   },
   "file_extension": ".py",
   "mimetype": "text/x-python",
   "name": "python",
   "nbconvert_exporter": "python",
   "pygments_lexer": "ipython3",
   "version": "3.7.0"
  }
 },
 "nbformat": 4,
 "nbformat_minor": 2
}

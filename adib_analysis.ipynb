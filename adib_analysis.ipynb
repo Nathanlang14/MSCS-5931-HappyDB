{
 "cells": [
  {
   "cell_type": "markdown",
   "metadata": {},
   "source": [
    "# View all available datasets"
   ]
  },
  {
   "cell_type": "code",
   "execution_count": 1,
   "metadata": {},
   "outputs": [
    {
     "name": "stdout",
     "output_type": "stream",
     "text": [
      "List of all available datasets:\n",
      "-- mergedData2.csv\n",
      "-- demographic.csv\n",
      "-- cleaned_hm.csv\n",
      "-- mergedData.csv\n"
     ]
    }
   ],
   "source": [
    "import os\n",
    "\n",
    "print(\"List of all available datasets:\")\n",
    "for entry in os.scandir('./data'):\n",
    "    if entry.is_file():\n",
    "        print(\"-- \" + entry.name)"
   ]
  },
  {
   "cell_type": "markdown",
   "metadata": {},
   "source": [
    "---\n",
    "# Import necessary libraries"
   ]
  },
  {
   "cell_type": "code",
   "execution_count": 2,
   "metadata": {},
   "outputs": [],
   "source": [
    "import warnings\n",
    "warnings.filterwarnings('ignore')"
   ]
  },
  {
   "cell_type": "code",
   "execution_count": 3,
   "metadata": {},
   "outputs": [],
   "source": [
    "import pandas as pd\n",
    "import numpy as np\n",
    "import matplotlib.pyplot as plt\n",
    "import seaborn as sns\n",
    "\n",
    "pd.options.display.max_colwidth = 1000"
   ]
  },
  {
   "cell_type": "markdown",
   "metadata": {},
   "source": [
    "---\n",
    "## Demographic dataset explorations"
   ]
  },
  {
   "cell_type": "code",
   "execution_count": 4,
   "metadata": {},
   "outputs": [],
   "source": [
    "data_demo = pd.read_csv(\"data/demographic.csv\")"
   ]
  },
  {
   "cell_type": "code",
   "execution_count": 5,
   "metadata": {},
   "outputs": [
    {
     "data": {
      "text/plain": [
       "(10844, 6)"
      ]
     },
     "execution_count": 5,
     "metadata": {},
     "output_type": "execute_result"
    }
   ],
   "source": [
    "data_demo.shape"
   ]
  },
  {
   "cell_type": "code",
   "execution_count": 6,
   "metadata": {},
   "outputs": [
    {
     "data": {
      "text/plain": [
       "Index(['wid', 'age', 'country', 'gender', 'marital', 'parenthood'], dtype='object')"
      ]
     },
     "execution_count": 6,
     "metadata": {},
     "output_type": "execute_result"
    }
   ],
   "source": [
    "data_demo.columns"
   ]
  },
  {
   "cell_type": "code",
   "execution_count": 7,
   "metadata": {},
   "outputs": [
    {
     "data": {
      "text/html": [
       "<div>\n",
       "<style scoped>\n",
       "    .dataframe tbody tr th:only-of-type {\n",
       "        vertical-align: middle;\n",
       "    }\n",
       "\n",
       "    .dataframe tbody tr th {\n",
       "        vertical-align: top;\n",
       "    }\n",
       "\n",
       "    .dataframe thead th {\n",
       "        text-align: right;\n",
       "    }\n",
       "</style>\n",
       "<table border=\"1\" class=\"dataframe\">\n",
       "  <thead>\n",
       "    <tr style=\"text-align: right;\">\n",
       "      <th></th>\n",
       "      <th>wid</th>\n",
       "      <th>age</th>\n",
       "      <th>country</th>\n",
       "      <th>gender</th>\n",
       "      <th>marital</th>\n",
       "      <th>parenthood</th>\n",
       "    </tr>\n",
       "  </thead>\n",
       "  <tbody>\n",
       "    <tr>\n",
       "      <th>454</th>\n",
       "      <td>455</td>\n",
       "      <td>29.0</td>\n",
       "      <td>IND</td>\n",
       "      <td>m</td>\n",
       "      <td>married</td>\n",
       "      <td>y</td>\n",
       "    </tr>\n",
       "    <tr>\n",
       "      <th>4906</th>\n",
       "      <td>5367</td>\n",
       "      <td>27</td>\n",
       "      <td>USA</td>\n",
       "      <td>f</td>\n",
       "      <td>single</td>\n",
       "      <td>n</td>\n",
       "    </tr>\n",
       "    <tr>\n",
       "      <th>2113</th>\n",
       "      <td>2128</td>\n",
       "      <td>21</td>\n",
       "      <td>USA</td>\n",
       "      <td>f</td>\n",
       "      <td>single</td>\n",
       "      <td>n</td>\n",
       "    </tr>\n",
       "    <tr>\n",
       "      <th>1217</th>\n",
       "      <td>1223</td>\n",
       "      <td>23</td>\n",
       "      <td>TUR</td>\n",
       "      <td>m</td>\n",
       "      <td>single</td>\n",
       "      <td>n</td>\n",
       "    </tr>\n",
       "    <tr>\n",
       "      <th>6384</th>\n",
       "      <td>7455</td>\n",
       "      <td>26.0</td>\n",
       "      <td>ITA</td>\n",
       "      <td>m</td>\n",
       "      <td>single</td>\n",
       "      <td>n</td>\n",
       "    </tr>\n",
       "  </tbody>\n",
       "</table>\n",
       "</div>"
      ],
      "text/plain": [
       "       wid   age country gender  marital parenthood\n",
       "454    455  29.0     IND      m  married          y\n",
       "4906  5367    27     USA      f   single          n\n",
       "2113  2128    21     USA      f   single          n\n",
       "1217  1223    23     TUR      m   single          n\n",
       "6384  7455  26.0     ITA      m   single          n"
      ]
     },
     "execution_count": 7,
     "metadata": {},
     "output_type": "execute_result"
    }
   ],
   "source": [
    "data_demo.sample(5)"
   ]
  },
  {
   "cell_type": "code",
   "execution_count": 8,
   "metadata": {},
   "outputs": [
    {
     "name": "stdout",
     "output_type": "stream",
     "text": [
      "Number of unique countries: 101\n",
      "which are: ['USA' 'IND' 'VNM' 'THA' 'GBR' 'SRB' 'BGR' 'BRA' 'BGD' 'CAN' 'PRT' 'PHL'\n",
      " 'VEN' 'MKD' 'DOM' 'DNK' 'IDN' 'AUS' 'URY' 'JAM' 'EGY' 'DEU' 'KEN' 'MDA'\n",
      " 'IRL' 'NGA' 'ALB' 'MEX' 'TTO' 'KWT' 'RUS' 'LTU' 'PRI' 'SWE' 'PER' 'PAK'\n",
      " 'TUR' 'FRA' 'ARE' 'COL' 'GRC' 'ROU' 'ARM' 'MAC' 'SGP' 'UGA' 'POL' 'NIC'\n",
      " 'JPN' 'ESP' 'TWN' 'FIN' 'ITA' 'GHA' 'AUT' 'NPL' 'NZL' 'NLD' 'KOR' 'LKA'\n",
      " 'KNA' 'ZAF' 'BEL' 'ISL' 'DZA' 'AFG' 'GMB' nan 'ASM' 'MYS' 'CZE' 'MLT'\n",
      " 'SVN' 'UMI' 'ARG' 'SAU' 'EST' 'ECU' 'ZMB' 'CHL' 'MAR' 'ISR' 'LVA' 'KAZ'\n",
      " 'NOR' 'CRI' 'BRB' 'HRV' 'ETH' 'TCA' 'BHS' 'VIR' 'GTM' 'IRQ' 'HKG' 'MUS'\n",
      " 'TUN' 'SUR' 'SLV' 'CYP' 'UKR']\n"
     ]
    }
   ],
   "source": [
    "print(\"Number of unique countries:\", data_demo['country'].unique().shape[0])\n",
    "print(\"which are:\", data_demo['country'].unique())"
   ]
  },
  {
   "cell_type": "code",
   "execution_count": 9,
   "metadata": {},
   "outputs": [
    {
     "name": "stdout",
     "output_type": "stream",
     "text": [
      "Number of unique marital status: 6\n",
      "which are: ['married' 'single' 'divorced' 'separated' 'widowed' nan]\n"
     ]
    }
   ],
   "source": [
    "print(\"Number of unique marital status:\", data_demo['marital'].unique().shape[0])\n",
    "print(\"which are:\", data_demo['marital'].unique())"
   ]
  },
  {
   "cell_type": "markdown",
   "metadata": {},
   "source": [
    "---\n",
    "## Cleaned dataset explorations"
   ]
  },
  {
   "cell_type": "code",
   "execution_count": 10,
   "metadata": {},
   "outputs": [],
   "source": [
    "data_happy = pd.read_csv(\"data/cleaned_hm.csv\")"
   ]
  },
  {
   "cell_type": "code",
   "execution_count": 11,
   "metadata": {},
   "outputs": [
    {
     "data": {
      "text/plain": [
       "(100535, 9)"
      ]
     },
     "execution_count": 11,
     "metadata": {},
     "output_type": "execute_result"
    }
   ],
   "source": [
    "data_happy.shape"
   ]
  },
  {
   "cell_type": "code",
   "execution_count": 12,
   "metadata": {},
   "outputs": [
    {
     "data": {
      "text/plain": [
       "Index(['hmid', 'wid', 'reflection_period', 'original_hm', 'cleaned_hm',\n",
       "       'modified', 'num_sentence', 'ground_truth_category',\n",
       "       'predicted_category'],\n",
       "      dtype='object')"
      ]
     },
     "execution_count": 12,
     "metadata": {},
     "output_type": "execute_result"
    }
   ],
   "source": [
    "data_happy.columns"
   ]
  },
  {
   "cell_type": "code",
   "execution_count": 13,
   "metadata": {},
   "outputs": [
    {
     "data": {
      "text/html": [
       "<div>\n",
       "<style scoped>\n",
       "    .dataframe tbody tr th:only-of-type {\n",
       "        vertical-align: middle;\n",
       "    }\n",
       "\n",
       "    .dataframe tbody tr th {\n",
       "        vertical-align: top;\n",
       "    }\n",
       "\n",
       "    .dataframe thead th {\n",
       "        text-align: right;\n",
       "    }\n",
       "</style>\n",
       "<table border=\"1\" class=\"dataframe\">\n",
       "  <thead>\n",
       "    <tr style=\"text-align: right;\">\n",
       "      <th></th>\n",
       "      <th>hmid</th>\n",
       "      <th>wid</th>\n",
       "      <th>reflection_period</th>\n",
       "      <th>original_hm</th>\n",
       "      <th>cleaned_hm</th>\n",
       "      <th>modified</th>\n",
       "      <th>num_sentence</th>\n",
       "      <th>ground_truth_category</th>\n",
       "      <th>predicted_category</th>\n",
       "    </tr>\n",
       "  </thead>\n",
       "  <tbody>\n",
       "    <tr>\n",
       "      <th>95970</th>\n",
       "      <td>124174</td>\n",
       "      <td>78</td>\n",
       "      <td>24h</td>\n",
       "      <td>My boss and I have sushi for lunch today, it was beyond delicious.</td>\n",
       "      <td>My boss and I have sushi for lunch today, it was beyond delicious.</td>\n",
       "      <td>True</td>\n",
       "      <td>1</td>\n",
       "      <td>NaN</td>\n",
       "      <td>achievement</td>\n",
       "    </tr>\n",
       "    <tr>\n",
       "      <th>63769</th>\n",
       "      <td>91773</td>\n",
       "      <td>26</td>\n",
       "      <td>3m</td>\n",
       "      <td>I attended a birthday party where the magician chose me as the main host in showing all the magic</td>\n",
       "      <td>I attended a birthday party where the magician chose me as the main host in showing all the magic</td>\n",
       "      <td>True</td>\n",
       "      <td>1</td>\n",
       "      <td>NaN</td>\n",
       "      <td>enjoy_the_moment</td>\n",
       "    </tr>\n",
       "    <tr>\n",
       "      <th>92388</th>\n",
       "      <td>120575</td>\n",
       "      <td>4910</td>\n",
       "      <td>24h</td>\n",
       "      <td>I made progress on a song that I was working on, and it made me feel as if I'm really making progress as a musician.</td>\n",
       "      <td>I made progress on a song that I was working on, and it made me feel as if I'm really making progress as a musician.</td>\n",
       "      <td>True</td>\n",
       "      <td>1</td>\n",
       "      <td>NaN</td>\n",
       "      <td>achievement</td>\n",
       "    </tr>\n",
       "    <tr>\n",
       "      <th>64645</th>\n",
       "      <td>92653</td>\n",
       "      <td>10657</td>\n",
       "      <td>3m</td>\n",
       "      <td>The day before yesterday my children and I went to watch the ring of fire at the Keeper of the Plains -it gave me great joy to watch their faces as the fires were burning.</td>\n",
       "      <td>The day before yesterday my children and I went to watch the ring of fire at the Keeper of the Plains -it gave me great joy to watch their faces as the fires were burning.</td>\n",
       "      <td>True</td>\n",
       "      <td>1</td>\n",
       "      <td>affection</td>\n",
       "      <td>affection</td>\n",
       "    </tr>\n",
       "    <tr>\n",
       "      <th>46063</th>\n",
       "      <td>73986</td>\n",
       "      <td>12843</td>\n",
       "      <td>3m</td>\n",
       "      <td>A small event that made me happy in the past two weeks was going out to eat at a fantastic and expensive restaurant that was just built in our city of Fort Wayne, Indiana. The food was incredible, and I had not eaten much during the day, which made it taste all the better (and maybe better than it should have!), leading to an eventual overindulgence.</td>\n",
       "      <td>A small event that made me happy in the past two weeks was going out to eat at a fantastic and expensive restaurant that was just built in our city of Fort Wayne, Indiana. The food was incredible, and I had not eaten much during the day, which made it taste all the better (and maybe better than it should have!), leading to an eventual overindulgence.</td>\n",
       "      <td>True</td>\n",
       "      <td>3</td>\n",
       "      <td>leisure</td>\n",
       "      <td>leisure</td>\n",
       "    </tr>\n",
       "  </tbody>\n",
       "</table>\n",
       "</div>"
      ],
      "text/plain": [
       "         hmid    wid reflection_period  \\\n",
       "95970  124174     78               24h   \n",
       "63769   91773     26                3m   \n",
       "92388  120575   4910               24h   \n",
       "64645   92653  10657                3m   \n",
       "46063   73986  12843                3m   \n",
       "\n",
       "                                                                                                                                                                                                                                                                                                                                                            original_hm  \\\n",
       "95970                                                                                                                                                                                                                                                                                                My boss and I have sushi for lunch today, it was beyond delicious.   \n",
       "63769                                                                                                                                                                                                                                                                 I attended a birthday party where the magician chose me as the main host in showing all the magic   \n",
       "92388                                                                                                                                                                                                                                              I made progress on a song that I was working on, and it made me feel as if I'm really making progress as a musician.   \n",
       "64645                                                                                                                                                                                      The day before yesterday my children and I went to watch the ring of fire at the Keeper of the Plains -it gave me great joy to watch their faces as the fires were burning.    \n",
       "46063  A small event that made me happy in the past two weeks was going out to eat at a fantastic and expensive restaurant that was just built in our city of Fort Wayne, Indiana. The food was incredible, and I had not eaten much during the day, which made it taste all the better (and maybe better than it should have!), leading to an eventual overindulgence.   \n",
       "\n",
       "                                                                                                                                                                                                                                                                                                                                                             cleaned_hm  \\\n",
       "95970                                                                                                                                                                                                                                                                                                My boss and I have sushi for lunch today, it was beyond delicious.   \n",
       "63769                                                                                                                                                                                                                                                                 I attended a birthday party where the magician chose me as the main host in showing all the magic   \n",
       "92388                                                                                                                                                                                                                                              I made progress on a song that I was working on, and it made me feel as if I'm really making progress as a musician.   \n",
       "64645                                                                                                                                                                                      The day before yesterday my children and I went to watch the ring of fire at the Keeper of the Plains -it gave me great joy to watch their faces as the fires were burning.    \n",
       "46063  A small event that made me happy in the past two weeks was going out to eat at a fantastic and expensive restaurant that was just built in our city of Fort Wayne, Indiana. The food was incredible, and I had not eaten much during the day, which made it taste all the better (and maybe better than it should have!), leading to an eventual overindulgence.   \n",
       "\n",
       "       modified  num_sentence ground_truth_category predicted_category  \n",
       "95970      True             1                   NaN        achievement  \n",
       "63769      True             1                   NaN   enjoy_the_moment  \n",
       "92388      True             1                   NaN        achievement  \n",
       "64645      True             1             affection          affection  \n",
       "46063      True             3               leisure            leisure  "
      ]
     },
     "execution_count": 13,
     "metadata": {},
     "output_type": "execute_result"
    }
   ],
   "source": [
    "data_happy.sample(5)"
   ]
  },
  {
   "cell_type": "code",
   "execution_count": 14,
   "metadata": {},
   "outputs": [
    {
     "name": "stdout",
     "output_type": "stream",
     "text": [
      "Number of unique reflection periods: 2\n",
      "which are: ['24h' '3m']\n"
     ]
    }
   ],
   "source": [
    "print(\"Number of unique reflection periods:\", data_happy['reflection_period'].unique().shape[0])\n",
    "print(\"which are:\", data_happy['reflection_period'].unique())"
   ]
  },
  {
   "cell_type": "code",
   "execution_count": 15,
   "metadata": {},
   "outputs": [
    {
     "name": "stdout",
     "output_type": "stream",
     "text": [
      "Number of unique types of number of sentences: 47\n",
      "which are: [ 1  2  3  9  6  4 53  5 12 16  7 13 11 28  8 10 14 17 25 27 37 34 21 23\n",
      " 19 26 24 22 31 18 58 32 15 29 35 56 51 20 46 42 30 60 69 40 48 44 45]\n"
     ]
    }
   ],
   "source": [
    "print(\"Number of unique types of number of sentences:\", data_happy['num_sentence'].unique().shape[0])\n",
    "print(\"which are:\", data_happy['num_sentence'].unique())"
   ]
  },
  {
   "cell_type": "code",
   "execution_count": 16,
   "metadata": {},
   "outputs": [
    {
     "name": "stdout",
     "output_type": "stream",
     "text": [
      "Number of unique ground truth categories: 8\n",
      "which are: [nan 'bonding' 'leisure' 'affection' 'enjoy_the_moment' 'achievement'\n",
      " 'nature' 'exercise']\n"
     ]
    }
   ],
   "source": [
    "print(\"Number of unique ground truth categories:\", data_happy['ground_truth_category'].unique().shape[0])\n",
    "print(\"which are:\", data_happy['ground_truth_category'].unique())"
   ]
  },
  {
   "cell_type": "code",
   "execution_count": 17,
   "metadata": {},
   "outputs": [
    {
     "name": "stdout",
     "output_type": "stream",
     "text": [
      "Number of unique predicted categories: 7\n",
      "which are: ['affection' 'exercise' 'bonding' 'leisure' 'achievement'\n",
      " 'enjoy_the_moment' 'nature']\n"
     ]
    }
   ],
   "source": [
    "print(\"Number of unique predicted categories:\", data_happy['predicted_category'].unique().shape[0])\n",
    "print(\"which are:\", data_happy['predicted_category'].unique())"
   ]
  },
  {
   "cell_type": "markdown",
   "metadata": {},
   "source": [
    "---\n",
    "# Qualitative analysis"
   ]
  },
  {
   "cell_type": "code",
   "execution_count": 18,
   "metadata": {},
   "outputs": [],
   "source": [
    "data = pd.read_csv(\"data/mergedData2.csv\")"
   ]
  },
  {
   "cell_type": "code",
   "execution_count": 20,
   "metadata": {},
   "outputs": [
    {
     "data": {
      "text/plain": [
       "Index(['wid', 'hmid', 'reflection_period', 'original_hm', 'cleaned_hm',\n",
       "       'modified', 'num_sentence', 'ground_truth_category',\n",
       "       'predicted_category', 'age', 'country', 'gender', 'marital',\n",
       "       'parenthood'],\n",
       "      dtype='object')"
      ]
     },
     "execution_count": 20,
     "metadata": {},
     "output_type": "execute_result"
    }
   ],
   "source": [
    "data.columns"
   ]
  },
  {
   "cell_type": "markdown",
   "metadata": {},
   "source": [
    "### Dimensions of dataset\n",
    "\n",
    "Features: age group, country, gender, marital status, parenthood, reflection period\n",
    "\n",
    "\n",
    "Outcome: predicted category, unigram, bigram"
   ]
  },
  {
   "cell_type": "code",
   "execution_count": 21,
   "metadata": {},
   "outputs": [],
   "source": [
    "data_group_1 = data[(data[\"country\"] == \"USA\") & (data[\"marital\"] == \"married\") & (data[\"reflection_period\"] == \"3m\")]"
   ]
  },
  {
   "cell_type": "code",
   "execution_count": 22,
   "metadata": {},
   "outputs": [
    {
     "data": {
      "text/plain": [
       "(15309, 14)"
      ]
     },
     "execution_count": 22,
     "metadata": {},
     "output_type": "execute_result"
    }
   ],
   "source": [
    "data_group_1.shape"
   ]
  },
  {
   "cell_type": "code",
   "execution_count": 23,
   "metadata": {},
   "outputs": [],
   "source": [
    "from sklearn.feature_extraction.text import CountVectorizer"
   ]
  },
  {
   "cell_type": "code",
   "execution_count": 24,
   "metadata": {},
   "outputs": [
    {
     "ename": "ValueError",
     "evalue": "Shape of passed values is (1, 95118), indices imply (2, 95118)",
     "output_type": "error",
     "traceback": [
      "\u001b[0;31m---------------------------------------------------------------------------\u001b[0m",
      "\u001b[0;31mValueError\u001b[0m                                Traceback (most recent call last)",
      "\u001b[0;32m~/.virtualenvs/data/lib/python3.7/site-packages/pandas/core/internals.py\u001b[0m in \u001b[0;36mcreate_block_manager_from_blocks\u001b[0;34m(blocks, axes)\u001b[0m\n\u001b[1;32m   4856\u001b[0m                 blocks = [make_block(values=blocks[0],\n\u001b[0;32m-> 4857\u001b[0;31m                                      placement=slice(0, len(axes[0])))]\n\u001b[0m\u001b[1;32m   4858\u001b[0m \u001b[0;34m\u001b[0m\u001b[0m\n",
      "\u001b[0;32m~/.virtualenvs/data/lib/python3.7/site-packages/pandas/core/internals.py\u001b[0m in \u001b[0;36mmake_block\u001b[0;34m(values, placement, klass, ndim, dtype, fastpath)\u001b[0m\n\u001b[1;32m   3204\u001b[0m \u001b[0;34m\u001b[0m\u001b[0m\n\u001b[0;32m-> 3205\u001b[0;31m     \u001b[0;32mreturn\u001b[0m \u001b[0mklass\u001b[0m\u001b[0;34m(\u001b[0m\u001b[0mvalues\u001b[0m\u001b[0;34m,\u001b[0m \u001b[0mndim\u001b[0m\u001b[0;34m=\u001b[0m\u001b[0mndim\u001b[0m\u001b[0;34m,\u001b[0m \u001b[0mplacement\u001b[0m\u001b[0;34m=\u001b[0m\u001b[0mplacement\u001b[0m\u001b[0;34m)\u001b[0m\u001b[0;34m\u001b[0m\u001b[0m\n\u001b[0m\u001b[1;32m   3206\u001b[0m \u001b[0;34m\u001b[0m\u001b[0m\n",
      "\u001b[0;32m~/.virtualenvs/data/lib/python3.7/site-packages/pandas/core/internals.py\u001b[0m in \u001b[0;36m__init__\u001b[0;34m(self, values, placement, ndim)\u001b[0m\n\u001b[1;32m    124\u001b[0m                 \u001b[0;34m'Wrong number of items passed {val}, placement implies '\u001b[0m\u001b[0;34m\u001b[0m\u001b[0m\n\u001b[0;32m--> 125\u001b[0;31m                 '{mgr}'.format(val=len(self.values), mgr=len(self.mgr_locs)))\n\u001b[0m\u001b[1;32m    126\u001b[0m \u001b[0;34m\u001b[0m\u001b[0m\n",
      "\u001b[0;31mValueError\u001b[0m: Wrong number of items passed 1, placement implies 2",
      "\nDuring handling of the above exception, another exception occurred:\n",
      "\u001b[0;31mValueError\u001b[0m                                Traceback (most recent call last)",
      "\u001b[0;32m<ipython-input-24-1aa8b4111655>\u001b[0m in \u001b[0;36m<module>\u001b[0;34m\u001b[0m\n\u001b[1;32m      2\u001b[0m \u001b[0msparse_matrix\u001b[0m \u001b[0;34m=\u001b[0m \u001b[0mword_vectorizer\u001b[0m\u001b[0;34m.\u001b[0m\u001b[0mfit_transform\u001b[0m\u001b[0;34m(\u001b[0m\u001b[0mdata_group_1\u001b[0m\u001b[0;34m[\u001b[0m\u001b[0;34m'cleaned_hm'\u001b[0m\u001b[0;34m]\u001b[0m\u001b[0;34m)\u001b[0m\u001b[0;34m\u001b[0m\u001b[0m\n\u001b[1;32m      3\u001b[0m \u001b[0mfrequencies\u001b[0m \u001b[0;34m=\u001b[0m \u001b[0msum\u001b[0m\u001b[0;34m(\u001b[0m\u001b[0msparse_matrix\u001b[0m\u001b[0;34m)\u001b[0m\u001b[0;34m.\u001b[0m\u001b[0mtoarray\u001b[0m\u001b[0;34m(\u001b[0m\u001b[0;34m)\u001b[0m\u001b[0;34m[\u001b[0m\u001b[0;36m0\u001b[0m\u001b[0;34m]\u001b[0m\u001b[0;34m\u001b[0m\u001b[0m\n\u001b[0;32m----> 4\u001b[0;31m \u001b[0mbag_of_words\u001b[0m \u001b[0;34m=\u001b[0m \u001b[0mpd\u001b[0m\u001b[0;34m.\u001b[0m\u001b[0mDataFrame\u001b[0m\u001b[0;34m(\u001b[0m\u001b[0mfrequencies\u001b[0m\u001b[0;34m,\u001b[0m \u001b[0mindex\u001b[0m\u001b[0;34m=\u001b[0m\u001b[0mword_vectorizer\u001b[0m\u001b[0;34m.\u001b[0m\u001b[0mget_feature_names\u001b[0m\u001b[0;34m(\u001b[0m\u001b[0;34m)\u001b[0m\u001b[0;34m,\u001b[0m \u001b[0mcolumns\u001b[0m\u001b[0;34m=\u001b[0m\u001b[0;34m[\u001b[0m\u001b[0;34m'frequency'\u001b[0m\u001b[0;34m,\u001b[0m \u001b[0;34m'n-gram'\u001b[0m\u001b[0;34m]\u001b[0m\u001b[0;34m)\u001b[0m\u001b[0;34m\u001b[0m\u001b[0m\n\u001b[0m",
      "\u001b[0;32m~/.virtualenvs/data/lib/python3.7/site-packages/pandas/core/frame.py\u001b[0m in \u001b[0;36m__init__\u001b[0;34m(self, data, index, columns, dtype, copy)\u001b[0m\n\u001b[1;32m    377\u001b[0m             \u001b[0;32melse\u001b[0m\u001b[0;34m:\u001b[0m\u001b[0;34m\u001b[0m\u001b[0m\n\u001b[1;32m    378\u001b[0m                 mgr = self._init_ndarray(data, index, columns, dtype=dtype,\n\u001b[0;32m--> 379\u001b[0;31m                                          copy=copy)\n\u001b[0m\u001b[1;32m    380\u001b[0m         \u001b[0;32melif\u001b[0m \u001b[0misinstance\u001b[0m\u001b[0;34m(\u001b[0m\u001b[0mdata\u001b[0m\u001b[0;34m,\u001b[0m \u001b[0;34m(\u001b[0m\u001b[0mlist\u001b[0m\u001b[0;34m,\u001b[0m \u001b[0mtypes\u001b[0m\u001b[0;34m.\u001b[0m\u001b[0mGeneratorType\u001b[0m\u001b[0;34m)\u001b[0m\u001b[0;34m)\u001b[0m\u001b[0;34m:\u001b[0m\u001b[0;34m\u001b[0m\u001b[0m\n\u001b[1;32m    381\u001b[0m             \u001b[0;32mif\u001b[0m \u001b[0misinstance\u001b[0m\u001b[0;34m(\u001b[0m\u001b[0mdata\u001b[0m\u001b[0;34m,\u001b[0m \u001b[0mtypes\u001b[0m\u001b[0;34m.\u001b[0m\u001b[0mGeneratorType\u001b[0m\u001b[0;34m)\u001b[0m\u001b[0;34m:\u001b[0m\u001b[0;34m\u001b[0m\u001b[0m\n",
      "\u001b[0;32m~/.virtualenvs/data/lib/python3.7/site-packages/pandas/core/frame.py\u001b[0m in \u001b[0;36m_init_ndarray\u001b[0;34m(self, values, index, columns, dtype, copy)\u001b[0m\n\u001b[1;32m    534\u001b[0m             \u001b[0mvalues\u001b[0m \u001b[0;34m=\u001b[0m \u001b[0mmaybe_infer_to_datetimelike\u001b[0m\u001b[0;34m(\u001b[0m\u001b[0mvalues\u001b[0m\u001b[0;34m)\u001b[0m\u001b[0;34m\u001b[0m\u001b[0m\n\u001b[1;32m    535\u001b[0m \u001b[0;34m\u001b[0m\u001b[0m\n\u001b[0;32m--> 536\u001b[0;31m         \u001b[0;32mreturn\u001b[0m \u001b[0mcreate_block_manager_from_blocks\u001b[0m\u001b[0;34m(\u001b[0m\u001b[0;34m[\u001b[0m\u001b[0mvalues\u001b[0m\u001b[0;34m]\u001b[0m\u001b[0;34m,\u001b[0m \u001b[0;34m[\u001b[0m\u001b[0mcolumns\u001b[0m\u001b[0;34m,\u001b[0m \u001b[0mindex\u001b[0m\u001b[0;34m]\u001b[0m\u001b[0;34m)\u001b[0m\u001b[0;34m\u001b[0m\u001b[0m\n\u001b[0m\u001b[1;32m    537\u001b[0m \u001b[0;34m\u001b[0m\u001b[0m\n\u001b[1;32m    538\u001b[0m     \u001b[0;34m@\u001b[0m\u001b[0mproperty\u001b[0m\u001b[0;34m\u001b[0m\u001b[0m\n",
      "\u001b[0;32m~/.virtualenvs/data/lib/python3.7/site-packages/pandas/core/internals.py\u001b[0m in \u001b[0;36mcreate_block_manager_from_blocks\u001b[0;34m(blocks, axes)\u001b[0m\n\u001b[1;32m   4864\u001b[0m         \u001b[0mblocks\u001b[0m \u001b[0;34m=\u001b[0m \u001b[0;34m[\u001b[0m\u001b[0mgetattr\u001b[0m\u001b[0;34m(\u001b[0m\u001b[0mb\u001b[0m\u001b[0;34m,\u001b[0m \u001b[0;34m'values'\u001b[0m\u001b[0;34m,\u001b[0m \u001b[0mb\u001b[0m\u001b[0;34m)\u001b[0m \u001b[0;32mfor\u001b[0m \u001b[0mb\u001b[0m \u001b[0;32min\u001b[0m \u001b[0mblocks\u001b[0m\u001b[0;34m]\u001b[0m\u001b[0;34m\u001b[0m\u001b[0m\n\u001b[1;32m   4865\u001b[0m         \u001b[0mtot_items\u001b[0m \u001b[0;34m=\u001b[0m \u001b[0msum\u001b[0m\u001b[0;34m(\u001b[0m\u001b[0mb\u001b[0m\u001b[0;34m.\u001b[0m\u001b[0mshape\u001b[0m\u001b[0;34m[\u001b[0m\u001b[0;36m0\u001b[0m\u001b[0;34m]\u001b[0m \u001b[0;32mfor\u001b[0m \u001b[0mb\u001b[0m \u001b[0;32min\u001b[0m \u001b[0mblocks\u001b[0m\u001b[0;34m)\u001b[0m\u001b[0;34m\u001b[0m\u001b[0m\n\u001b[0;32m-> 4866\u001b[0;31m         \u001b[0mconstruction_error\u001b[0m\u001b[0;34m(\u001b[0m\u001b[0mtot_items\u001b[0m\u001b[0;34m,\u001b[0m \u001b[0mblocks\u001b[0m\u001b[0;34m[\u001b[0m\u001b[0;36m0\u001b[0m\u001b[0;34m]\u001b[0m\u001b[0;34m.\u001b[0m\u001b[0mshape\u001b[0m\u001b[0;34m[\u001b[0m\u001b[0;36m1\u001b[0m\u001b[0;34m:\u001b[0m\u001b[0;34m]\u001b[0m\u001b[0;34m,\u001b[0m \u001b[0maxes\u001b[0m\u001b[0;34m,\u001b[0m \u001b[0me\u001b[0m\u001b[0;34m)\u001b[0m\u001b[0;34m\u001b[0m\u001b[0m\n\u001b[0m\u001b[1;32m   4867\u001b[0m \u001b[0;34m\u001b[0m\u001b[0m\n\u001b[1;32m   4868\u001b[0m \u001b[0;34m\u001b[0m\u001b[0m\n",
      "\u001b[0;32m~/.virtualenvs/data/lib/python3.7/site-packages/pandas/core/internals.py\u001b[0m in \u001b[0;36mconstruction_error\u001b[0;34m(tot_items, block_shape, axes, e)\u001b[0m\n\u001b[1;32m   4841\u001b[0m         \u001b[0;32mraise\u001b[0m \u001b[0mValueError\u001b[0m\u001b[0;34m(\u001b[0m\u001b[0;34m\"Empty data passed with indices specified.\"\u001b[0m\u001b[0;34m)\u001b[0m\u001b[0;34m\u001b[0m\u001b[0m\n\u001b[1;32m   4842\u001b[0m     raise ValueError(\"Shape of passed values is {0}, indices imply {1}\".format(\n\u001b[0;32m-> 4843\u001b[0;31m         passed, implied))\n\u001b[0m\u001b[1;32m   4844\u001b[0m \u001b[0;34m\u001b[0m\u001b[0m\n\u001b[1;32m   4845\u001b[0m \u001b[0;34m\u001b[0m\u001b[0m\n",
      "\u001b[0;31mValueError\u001b[0m: Shape of passed values is (1, 95118), indices imply (2, 95118)"
     ]
    }
   ],
   "source": [
    "word_vectorizer = CountVectorizer(ngram_range=(1,2), analyzer='word')\n",
    "sparse_matrix = word_vectorizer.fit_transform(data_group_1['cleaned_hm'])\n",
    "frequencies = sum(sparse_matrix).toarray()[0]\n",
    "bag_of_words = pd.DataFrame(frequencies, index=word_vectorizer.get_feature_names(), columns=['frequency', 'n-gram'])"
   ]
  },
  {
   "cell_type": "code",
   "execution_count": null,
   "metadata": {},
   "outputs": [],
   "source": [
    "nnnn = bag_of_words.sort_values('frequency')"
   ]
  },
  {
   "cell_type": "code",
   "execution_count": null,
   "metadata": {},
   "outputs": [],
   "source": [
    "nnnn.tail(100)"
   ]
  },
  {
   "cell_type": "code",
   "execution_count": null,
   "metadata": {},
   "outputs": [],
   "source": []
  }
 ],
 "metadata": {
  "kernelspec": {
   "display_name": "Python 3",
   "language": "python",
   "name": "python3"
  },
  "language_info": {
   "codemirror_mode": {
    "name": "ipython",
    "version": 3
   },
   "file_extension": ".py",
   "mimetype": "text/x-python",
   "name": "python",
   "nbconvert_exporter": "python",
   "pygments_lexer": "ipython3",
   "version": "3.7.0"
  }
 },
 "nbformat": 4,
 "nbformat_minor": 2
}

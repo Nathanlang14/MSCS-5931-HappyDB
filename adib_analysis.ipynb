{
 "cells": [
  {
   "cell_type": "markdown",
   "metadata": {},
   "source": [
    "# View all available datasets"
   ]
  },
  {
   "cell_type": "code",
   "execution_count": 1,
   "metadata": {},
   "outputs": [
    {
     "name": "stdout",
     "output_type": "stream",
     "text": [
      "List of all available datasets:\n",
      "-- demographic.csv\n",
      "-- cleaned_hm.csv\n",
      "-- mergedData.csv\n"
     ]
    }
   ],
   "source": [
    "import os\n",
    "\n",
    "print(\"List of all available datasets:\")\n",
    "for entry in os.scandir('./data'):\n",
    "    if entry.is_file():\n",
    "        print(\"-- \" + entry.name)"
   ]
  },
  {
   "cell_type": "markdown",
   "metadata": {},
   "source": [
    "---\n",
    "# Import necessary libraries"
   ]
  },
  {
   "cell_type": "code",
   "execution_count": 2,
   "metadata": {},
   "outputs": [],
   "source": [
    "import warnings\n",
    "warnings.filterwarnings('ignore')"
   ]
  },
  {
   "cell_type": "code",
   "execution_count": 3,
   "metadata": {},
   "outputs": [],
   "source": [
    "import pandas as pd\n",
    "import numpy as np\n",
    "import matplotlib.pyplot as plt\n",
    "import seaborn as sns\n",
    "\n",
    "pd.options.display.max_colwidth = 1000"
   ]
  },
  {
   "cell_type": "markdown",
   "metadata": {},
   "source": [
    "---\n",
    "## Demographic dataset explorations"
   ]
  },
  {
   "cell_type": "code",
   "execution_count": 4,
   "metadata": {},
   "outputs": [],
   "source": [
    "data_demo = pd.read_csv(\"data/demographic.csv\")"
   ]
  },
  {
   "cell_type": "code",
   "execution_count": 5,
   "metadata": {},
   "outputs": [
    {
     "data": {
      "text/plain": [
       "(10844, 6)"
      ]
     },
     "execution_count": 5,
     "metadata": {},
     "output_type": "execute_result"
    }
   ],
   "source": [
    "data_demo.shape"
   ]
  },
  {
   "cell_type": "code",
   "execution_count": 6,
   "metadata": {},
   "outputs": [
    {
     "data": {
      "text/plain": [
       "Index(['wid', 'age', 'country', 'gender', 'marital', 'parenthood'], dtype='object')"
      ]
     },
     "execution_count": 6,
     "metadata": {},
     "output_type": "execute_result"
    }
   ],
   "source": [
    "data_demo.columns"
   ]
  },
  {
   "cell_type": "code",
   "execution_count": 7,
   "metadata": {},
   "outputs": [
    {
     "data": {
      "text/html": [
       "<div>\n",
       "<style scoped>\n",
       "    .dataframe tbody tr th:only-of-type {\n",
       "        vertical-align: middle;\n",
       "    }\n",
       "\n",
       "    .dataframe tbody tr th {\n",
       "        vertical-align: top;\n",
       "    }\n",
       "\n",
       "    .dataframe thead th {\n",
       "        text-align: right;\n",
       "    }\n",
       "</style>\n",
       "<table border=\"1\" class=\"dataframe\">\n",
       "  <thead>\n",
       "    <tr style=\"text-align: right;\">\n",
       "      <th></th>\n",
       "      <th>wid</th>\n",
       "      <th>age</th>\n",
       "      <th>country</th>\n",
       "      <th>gender</th>\n",
       "      <th>marital</th>\n",
       "      <th>parenthood</th>\n",
       "    </tr>\n",
       "  </thead>\n",
       "  <tbody>\n",
       "    <tr>\n",
       "      <th>5044</th>\n",
       "      <td>5569</td>\n",
       "      <td>44</td>\n",
       "      <td>USA</td>\n",
       "      <td>f</td>\n",
       "      <td>separated</td>\n",
       "      <td>n</td>\n",
       "    </tr>\n",
       "    <tr>\n",
       "      <th>389</th>\n",
       "      <td>390</td>\n",
       "      <td>31.0</td>\n",
       "      <td>USA</td>\n",
       "      <td>m</td>\n",
       "      <td>single</td>\n",
       "      <td>n</td>\n",
       "    </tr>\n",
       "    <tr>\n",
       "      <th>6350</th>\n",
       "      <td>7409</td>\n",
       "      <td>41</td>\n",
       "      <td>USA</td>\n",
       "      <td>f</td>\n",
       "      <td>single</td>\n",
       "      <td>n</td>\n",
       "    </tr>\n",
       "    <tr>\n",
       "      <th>9572</th>\n",
       "      <td>12008</td>\n",
       "      <td>35.0</td>\n",
       "      <td>USA</td>\n",
       "      <td>f</td>\n",
       "      <td>married</td>\n",
       "      <td>y</td>\n",
       "    </tr>\n",
       "    <tr>\n",
       "      <th>3869</th>\n",
       "      <td>4087</td>\n",
       "      <td>30</td>\n",
       "      <td>USA</td>\n",
       "      <td>m</td>\n",
       "      <td>single</td>\n",
       "      <td>n</td>\n",
       "    </tr>\n",
       "  </tbody>\n",
       "</table>\n",
       "</div>"
      ],
      "text/plain": [
       "        wid   age country gender    marital parenthood\n",
       "5044   5569    44     USA      f  separated          n\n",
       "389     390  31.0     USA      m     single          n\n",
       "6350   7409    41     USA      f     single          n\n",
       "9572  12008  35.0     USA      f    married          y\n",
       "3869   4087    30     USA      m     single          n"
      ]
     },
     "execution_count": 7,
     "metadata": {},
     "output_type": "execute_result"
    }
   ],
   "source": [
    "data_demo.sample(5)"
   ]
  },
  {
   "cell_type": "code",
   "execution_count": 8,
   "metadata": {},
   "outputs": [
    {
     "name": "stdout",
     "output_type": "stream",
     "text": [
      "Number of unique countries: 101\n",
      "which are: ['USA' 'IND' 'VNM' 'THA' 'GBR' 'SRB' 'BGR' 'BRA' 'BGD' 'CAN' 'PRT' 'PHL'\n",
      " 'VEN' 'MKD' 'DOM' 'DNK' 'IDN' 'AUS' 'URY' 'JAM' 'EGY' 'DEU' 'KEN' 'MDA'\n",
      " 'IRL' 'NGA' 'ALB' 'MEX' 'TTO' 'KWT' 'RUS' 'LTU' 'PRI' 'SWE' 'PER' 'PAK'\n",
      " 'TUR' 'FRA' 'ARE' 'COL' 'GRC' 'ROU' 'ARM' 'MAC' 'SGP' 'UGA' 'POL' 'NIC'\n",
      " 'JPN' 'ESP' 'TWN' 'FIN' 'ITA' 'GHA' 'AUT' 'NPL' 'NZL' 'NLD' 'KOR' 'LKA'\n",
      " 'KNA' 'ZAF' 'BEL' 'ISL' 'DZA' 'AFG' 'GMB' nan 'ASM' 'MYS' 'CZE' 'MLT'\n",
      " 'SVN' 'UMI' 'ARG' 'SAU' 'EST' 'ECU' 'ZMB' 'CHL' 'MAR' 'ISR' 'LVA' 'KAZ'\n",
      " 'NOR' 'CRI' 'BRB' 'HRV' 'ETH' 'TCA' 'BHS' 'VIR' 'GTM' 'IRQ' 'HKG' 'MUS'\n",
      " 'TUN' 'SUR' 'SLV' 'CYP' 'UKR']\n"
     ]
    }
   ],
   "source": [
    "print(\"Number of unique countries:\", data_demo['country'].unique().shape[0])\n",
    "print(\"which are:\", data_demo['country'].unique())"
   ]
  },
  {
   "cell_type": "code",
   "execution_count": 9,
   "metadata": {},
   "outputs": [
    {
     "name": "stdout",
     "output_type": "stream",
     "text": [
      "Number of unique marital status: 6\n",
      "which are: ['married' 'single' 'divorced' 'separated' 'widowed' nan]\n"
     ]
    }
   ],
   "source": [
    "print(\"Number of unique marital status:\", data_demo['marital'].unique().shape[0])\n",
    "print(\"which are:\", data_demo['marital'].unique())"
   ]
  },
  {
   "cell_type": "markdown",
   "metadata": {},
   "source": [
    "---\n",
    "## Cleaned dataset explorations"
   ]
  },
  {
   "cell_type": "code",
   "execution_count": 10,
   "metadata": {},
   "outputs": [],
   "source": [
    "data_happy = pd.read_csv(\"data/cleaned_hm.csv\")"
   ]
  },
  {
   "cell_type": "code",
   "execution_count": 11,
   "metadata": {},
   "outputs": [
    {
     "data": {
      "text/plain": [
       "(100535, 9)"
      ]
     },
     "execution_count": 11,
     "metadata": {},
     "output_type": "execute_result"
    }
   ],
   "source": [
    "data_happy.shape"
   ]
  },
  {
   "cell_type": "code",
   "execution_count": 12,
   "metadata": {},
   "outputs": [
    {
     "data": {
      "text/plain": [
       "Index(['hmid', 'wid', 'reflection_period', 'original_hm', 'cleaned_hm',\n",
       "       'modified', 'num_sentence', 'ground_truth_category',\n",
       "       'predicted_category'],\n",
       "      dtype='object')"
      ]
     },
     "execution_count": 12,
     "metadata": {},
     "output_type": "execute_result"
    }
   ],
   "source": [
    "data_happy.columns"
   ]
  },
  {
   "cell_type": "code",
   "execution_count": 13,
   "metadata": {},
   "outputs": [
    {
     "data": {
      "text/html": [
       "<div>\n",
       "<style scoped>\n",
       "    .dataframe tbody tr th:only-of-type {\n",
       "        vertical-align: middle;\n",
       "    }\n",
       "\n",
       "    .dataframe tbody tr th {\n",
       "        vertical-align: top;\n",
       "    }\n",
       "\n",
       "    .dataframe thead th {\n",
       "        text-align: right;\n",
       "    }\n",
       "</style>\n",
       "<table border=\"1\" class=\"dataframe\">\n",
       "  <thead>\n",
       "    <tr style=\"text-align: right;\">\n",
       "      <th></th>\n",
       "      <th>hmid</th>\n",
       "      <th>wid</th>\n",
       "      <th>reflection_period</th>\n",
       "      <th>original_hm</th>\n",
       "      <th>cleaned_hm</th>\n",
       "      <th>modified</th>\n",
       "      <th>num_sentence</th>\n",
       "      <th>ground_truth_category</th>\n",
       "      <th>predicted_category</th>\n",
       "    </tr>\n",
       "  </thead>\n",
       "  <tbody>\n",
       "    <tr>\n",
       "      <th>74501</th>\n",
       "      <td>102585</td>\n",
       "      <td>4352</td>\n",
       "      <td>3m</td>\n",
       "      <td>At work today, my boss told me I was doing a great job.</td>\n",
       "      <td>At work today, my boss told me I was doing a great job.</td>\n",
       "      <td>True</td>\n",
       "      <td>1</td>\n",
       "      <td>NaN</td>\n",
       "      <td>achievement</td>\n",
       "    </tr>\n",
       "    <tr>\n",
       "      <th>32459</th>\n",
       "      <td>60310</td>\n",
       "      <td>11323</td>\n",
       "      <td>3m</td>\n",
       "      <td>My niece was born on March 2nd.</td>\n",
       "      <td>My niece was born on March 2nd.</td>\n",
       "      <td>True</td>\n",
       "      <td>1</td>\n",
       "      <td>NaN</td>\n",
       "      <td>affection</td>\n",
       "    </tr>\n",
       "    <tr>\n",
       "      <th>83093</th>\n",
       "      <td>111217</td>\n",
       "      <td>996</td>\n",
       "      <td>24h</td>\n",
       "      <td>I got a positive response to an email.</td>\n",
       "      <td>I got a positive response to an email.</td>\n",
       "      <td>True</td>\n",
       "      <td>1</td>\n",
       "      <td>NaN</td>\n",
       "      <td>achievement</td>\n",
       "    </tr>\n",
       "    <tr>\n",
       "      <th>3371</th>\n",
       "      <td>31066</td>\n",
       "      <td>39</td>\n",
       "      <td>24h</td>\n",
       "      <td>Last month i went to meet my distant relation and i had not met him for many years and i was very happy to see him and he greeted me very well and i shared with him how i cared for him and i had lunch in his house and returned evening to my home.</td>\n",
       "      <td>Last month i went to meet my distant relation and i had not met him for many years and i was very happy to see him and he greeted me very well and i shared with him how i cared for him and i had lunch in his house and returned evening to my home.</td>\n",
       "      <td>True</td>\n",
       "      <td>1</td>\n",
       "      <td>NaN</td>\n",
       "      <td>affection</td>\n",
       "    </tr>\n",
       "    <tr>\n",
       "      <th>16878</th>\n",
       "      <td>44649</td>\n",
       "      <td>209</td>\n",
       "      <td>24h</td>\n",
       "      <td>I was booking a flight and just before I finalized the reservation I received an email from the airline about a special deal that ended up saving me over $200.</td>\n",
       "      <td>I was booking a flight and just before I finalized the reservation I received an email from the airline about a special deal that ended up saving me over $200.</td>\n",
       "      <td>True</td>\n",
       "      <td>1</td>\n",
       "      <td>achievement</td>\n",
       "      <td>achievement</td>\n",
       "    </tr>\n",
       "  </tbody>\n",
       "</table>\n",
       "</div>"
      ],
      "text/plain": [
       "         hmid    wid reflection_period  \\\n",
       "74501  102585   4352                3m   \n",
       "32459   60310  11323                3m   \n",
       "83093  111217    996               24h   \n",
       "3371    31066     39               24h   \n",
       "16878   44649    209               24h   \n",
       "\n",
       "                                                                                                                                                                                                                                                  original_hm  \\\n",
       "74501                                                                                                                                                                                                 At work today, my boss told me I was doing a great job.   \n",
       "32459                                                                                                                                                                                                                         My niece was born on March 2nd.   \n",
       "83093                                                                                                                                                                                                                 I got a positive response to an email.    \n",
       "3371   Last month i went to meet my distant relation and i had not met him for many years and i was very happy to see him and he greeted me very well and i shared with him how i cared for him and i had lunch in his house and returned evening to my home.   \n",
       "16878                                                                                         I was booking a flight and just before I finalized the reservation I received an email from the airline about a special deal that ended up saving me over $200.   \n",
       "\n",
       "                                                                                                                                                                                                                                                   cleaned_hm  \\\n",
       "74501                                                                                                                                                                                                 At work today, my boss told me I was doing a great job.   \n",
       "32459                                                                                                                                                                                                                         My niece was born on March 2nd.   \n",
       "83093                                                                                                                                                                                                                 I got a positive response to an email.    \n",
       "3371   Last month i went to meet my distant relation and i had not met him for many years and i was very happy to see him and he greeted me very well and i shared with him how i cared for him and i had lunch in his house and returned evening to my home.   \n",
       "16878                                                                                         I was booking a flight and just before I finalized the reservation I received an email from the airline about a special deal that ended up saving me over $200.   \n",
       "\n",
       "       modified  num_sentence ground_truth_category predicted_category  \n",
       "74501      True             1                   NaN        achievement  \n",
       "32459      True             1                   NaN          affection  \n",
       "83093      True             1                   NaN        achievement  \n",
       "3371       True             1                   NaN          affection  \n",
       "16878      True             1           achievement        achievement  "
      ]
     },
     "execution_count": 13,
     "metadata": {},
     "output_type": "execute_result"
    }
   ],
   "source": [
    "data_happy.sample(5)"
   ]
  },
  {
   "cell_type": "code",
   "execution_count": 14,
   "metadata": {},
   "outputs": [
    {
     "name": "stdout",
     "output_type": "stream",
     "text": [
      "Number of unique reflection periods: 2\n",
      "which are: ['24h' '3m']\n"
     ]
    }
   ],
   "source": [
    "print(\"Number of unique reflection periods:\", data_happy['reflection_period'].unique().shape[0])\n",
    "print(\"which are:\", data_happy['reflection_period'].unique())"
   ]
  },
  {
   "cell_type": "code",
   "execution_count": 15,
   "metadata": {},
   "outputs": [
    {
     "name": "stdout",
     "output_type": "stream",
     "text": [
      "Number of unique types of number of sentences: 47\n",
      "which are: [ 1  2  3  9  6  4 53  5 12 16  7 13 11 28  8 10 14 17 25 27 37 34 21 23\n",
      " 19 26 24 22 31 18 58 32 15 29 35 56 51 20 46 42 30 60 69 40 48 44 45]\n"
     ]
    }
   ],
   "source": [
    "print(\"Number of unique types of number of sentences:\", data_happy['num_sentence'].unique().shape[0])\n",
    "print(\"which are:\", data_happy['num_sentence'].unique())"
   ]
  },
  {
   "cell_type": "code",
   "execution_count": 16,
   "metadata": {},
   "outputs": [
    {
     "name": "stdout",
     "output_type": "stream",
     "text": [
      "Number of unique ground truth categories: 8\n",
      "which are: [nan 'bonding' 'leisure' 'affection' 'enjoy_the_moment' 'achievement'\n",
      " 'nature' 'exercise']\n"
     ]
    }
   ],
   "source": [
    "print(\"Number of unique ground truth categories:\", data_happy['ground_truth_category'].unique().shape[0])\n",
    "print(\"which are:\", data_happy['ground_truth_category'].unique())"
   ]
  },
  {
   "cell_type": "code",
   "execution_count": 17,
   "metadata": {},
   "outputs": [
    {
     "name": "stdout",
     "output_type": "stream",
     "text": [
      "Number of unique predicted categories: 7\n",
      "which are: ['affection' 'exercise' 'bonding' 'leisure' 'achievement'\n",
      " 'enjoy_the_moment' 'nature']\n"
     ]
    }
   ],
   "source": [
    "print(\"Number of unique predicted categories:\", data_happy['predicted_category'].unique().shape[0])\n",
    "print(\"which are:\", data_happy['predicted_category'].unique())"
   ]
  },
  {
   "cell_type": "code",
   "execution_count": null,
   "metadata": {},
   "outputs": [],
   "source": []
  }
 ],
 "metadata": {
  "kernelspec": {
   "display_name": "Python 3",
   "language": "python",
   "name": "python3"
  },
  "language_info": {
   "codemirror_mode": {
    "name": "ipython",
    "version": 3
   },
   "file_extension": ".py",
   "mimetype": "text/x-python",
   "name": "python",
   "nbconvert_exporter": "python",
   "pygments_lexer": "ipython3",
   "version": "3.7.0"
  }
 },
 "nbformat": 4,
 "nbformat_minor": 2
}
